{
  "cells": [
    {
      "cell_type": "markdown",
      "metadata": {
        "id": "q2PkRmQqBfWM"
      },
      "source": [
        "**datamask_2018.tif**:\n",
        "    \n",
        "    is a layer that has values 0,1,2,or -1.\n",
        "            0 for no data\n",
        "            1 for mapped land surface\n",
        "            2 for permanent woter bodies\n",
        "            -1 for masked pixel\n",
        "\n",
        "**gain_2018.tif**\n",
        "\n",
        "        is a layer that has values 0,1,or -1.\n",
        "            0 for no gain experienced between 2001 and 2012\n",
        "            1 for gain experienced between 2001 and 2012\n",
        "            -1. for masked pixel\n",
        "        \n",
        "**treecover2000_2018.tif**\n",
        "\n",
        "        is a layer that has values between 0,100,or -1.\n",
        "            value between 0 and 100 indicates percentage three cover observed.\n",
        "            -1 for masked pixel\n",
        "\n",
        "\n",
        "**if_in_buffer.tif**\n",
        "\n",
        "        is a layer that has values 0,1,or -1.\n",
        "            0 if a pixel lies\n",
        "            1 if a pixel lies in the buffer area\n",
        "            -1 for masked pixel\n",
        "            \n",
        "The first three files are produced form the files:\n",
        "    datamask\n",
        "    gain\n",
        "    treecover2000\n",
        "    \n",
        "    Downladed from:\n",
        "    https://earthenginepartners.appspot.com/science-2013-global-forest/download_v1.6.html\n",
        "\n",
        "For how if_in_buffer.tif was created see R notebook.    "
      ]
    },
    {
      "cell_type": "markdown",
      "metadata": {
        "id": "oqk7RHkRBfWN"
      },
      "source": [
        "  **lossyear_2018.tif**\n",
        "    \n",
        "    Downladed from:\n",
        "    https://earthenginepartners.appspot.com/science-2013-global-forest/download_v1.6.html\n",
        "    contains the most recent lossyear file.\n",
        "    \n",
        "    layer with values 0,1,2,3,..18 or -1\n",
        "        0 for no loss experienced between 2001 and 2018\n",
        "        1,2,3..18 for loss experienced in 2001, 2002, 2003,..2018\n",
        "        -1 for masked pixel\n",
        "    \n",
        "    \n",
        "    last_2018_1.tif\n",
        "    last_2018_2.tif\n",
        "    last_2018_3.tif\n",
        "    last_2018_4.tif\n",
        "    \n",
        "    The \"last\" file 4 bands corresponding to year 2018\n",
        "    each has values between 0:255 or -1\n",
        "        masked pixels have value -1"
      ]
    },
    {
      "cell_type": "markdown",
      "metadata": {
        "id": "_j18W4UUBfWO"
      },
      "source": [
        "<img src=\"images/table.png\">"
      ]
    },
    {
      "cell_type": "markdown",
      "metadata": {
        "id": "DOXp62WBBfWQ"
      },
      "source": [
        "Load needed packages.\n",
        "\n",
        "sourcepath is the path to folder that has all tiff files.\n",
        "\n",
        "wherepath is the path to folder where the tensors to be saved and loaded later"
      ]
    },
    {
      "cell_type": "code",
      "execution_count": null,
      "metadata": {
        "id": "kWeMipxHBfWQ",
        "outputId": "b0c2af42-94a1-4068-ca05-b674d6747f52"
      },
      "outputs": [
        {
          "name": "stdout",
          "output_type": "stream",
          "text": [
            "/rds/general/project/aandedemand/live/satellite/junin/data_reduced /rds/general/project/aandedemand/live/satellite/junin/data_reduced/tensors\n"
          ]
        }
      ],
      "source": [
        "import torch\n",
        "from torchvision.transforms import ToTensor\n",
        "from PIL import Image\n",
        "Image.MAX_IMAGE_PIXELS = None\n",
        "from torch.utils.data import Dataset\n",
        "import os.path\n",
        "import numpy as np\n",
        "\n",
        "\n",
        "server = '/rds/general/project/aandedemand/live/satellite/junin'\n",
        "\n",
        "sourcepath = '/data_reduced'\n",
        "wherepath = '/data_reduced/tensors'\n",
        "\n",
        "sourcepath = server + sourcepath\n",
        "wherepath = server + wherepath\n",
        "print(sourcepath, wherepath)"
      ]
    },
    {
      "cell_type": "code",
      "execution_count": null,
      "metadata": {
        "id": "yzObDv3mBfWS",
        "outputId": "aea63773-6635-495d-ccda-df76dfa1abb0"
      },
      "outputs": [
        {
          "name": "stdout",
          "output_type": "stream",
          "text": [
            "done\n"
          ]
        }
      ],
      "source": [
        "import matplotlib\n",
        "import matplotlib.pyplot as plt\n",
        "import time\n",
        "print('done')"
      ]
    },
    {
      "cell_type": "code",
      "execution_count": null,
      "metadata": {
        "id": "WuSxvOhIBfWT"
      },
      "outputs": [],
      "source": [
        "def to_Tensor(path,name):\n",
        "    \"\"\"\n",
        "    Load Tiff files as tensors\n",
        "    \"\"\"\n",
        "    t = Image.open(path+\"/\"+name)\n",
        "    t = ToTensor()(t)\n",
        "    t = t.squeeze(dim = 0)\n",
        "    return(t)"
      ]
    },
    {
      "cell_type": "markdown",
      "metadata": {
        "id": "v1ntEoGSBfWT"
      },
      "source": [
        "## datamask"
      ]
    },
    {
      "cell_type": "code",
      "execution_count": null,
      "metadata": {
        "id": "jhV0PQSGBfWT",
        "outputId": "4b0cc9b7-307e-425e-952f-fe0fee26a69e"
      },
      "outputs": [
        {
          "data": {
            "text/plain": [
              "<Figure size 1008x1008 with 0 Axes>"
            ]
          },
          "metadata": {},
          "output_type": "display_data"
        },
        {
          "data": {
            "image/png": "[encoded data removed]",
            "text/plain": [
              "<Figure size 369.963x288 with 1 Axes>"
            ]
          },
          "metadata": {
            "needs_background": "light"
          },
          "output_type": "display_data"
        },
        {
          "name": "stdout",
          "output_type": "stream",
          "text": [
            "Number of pixels in AOI and buffer with no data (0 entries):  0\n"
          ]
        }
      ],
      "source": [
        "datamask = to_Tensor(sourcepath,'Hansen/datamask_2018.tif')\n",
        "\n",
        "\n",
        "#visualise:\n",
        "colors = ['grey','white','green','blue']\n",
        "plt.fig = plt.figure(figsize=(14,14))\n",
        "plt.matshow(datamask,cmap=matplotlib.colors.ListedColormap(colors))\n",
        "plt.show()\n",
        "print(\"Number of pixels in AOI and buffer with no data (0 entries): \", len((datamask == 0).nonzero()))"
      ]
    },
    {
      "cell_type": "markdown",
      "metadata": {
        "id": "gFi_FLXIBfWU"
      },
      "source": [
        "Since for AOI area all pixels have value $\\neq 0$, to rescale this layer to be in range 0,1 we change encoding as follows:\n",
        "     \n",
        "     datamask:\n",
        "    -1 for NA value\n",
        "    0 for land pixel in AOI\n",
        "    1 for water body pixel in AOI\n",
        "\n",
        "by running this line:\n",
        "\n",
        "    datamask[datamask !=  -1] = datamask[datamask !=  -1] - 1"
      ]
    },
    {
      "cell_type": "code",
      "execution_count": null,
      "metadata": {
        "id": "L3Q_h1sNBfWU"
      },
      "outputs": [],
      "source": [
        "datamask[datamask !=  -1] = datamask[datamask !=  -1] - 1"
      ]
    },
    {
      "cell_type": "markdown",
      "metadata": {
        "id": "A5V0xIZnBfWU"
      },
      "source": [
        "## if_in_buffer"
      ]
    },
    {
      "cell_type": "markdown",
      "metadata": {
        "id": "DynH-xkuBfWV"
      },
      "source": [
        "## DSM - new layer"
      ]
    },
    {
      "cell_type": "code",
      "execution_count": null,
      "metadata": {
        "id": "80g4Y2V0BfWW",
        "outputId": "c4db963f-c9a1-4d61-febe-c3934bc1176d"
      },
      "outputs": [
        {
          "name": "stdout",
          "output_type": "stream",
          "text": [
            "tensor([[   0, 2651],\n",
            "        [   0, 2652],\n",
            "        [   0, 2653],\n",
            "        ...,\n",
            "        [7652, 8517],\n",
            "        [7652, 8518],\n",
            "        [7652, 8519]])\n",
            "tensor([1371.2875, 1380.6450, 1386.6625,  ..., 3292.9475, 3301.5874,\n",
            "        3313.1201])\n"
          ]
        }
      ],
      "source": [
        "values = (DSM != -1).nonzero()\n",
        "print(values)\n",
        "values = DSM[ values[:,0] , values[:,1]].view(-1)\n",
        "print(values)"
      ]
    },
    {
      "cell_type": "code",
      "execution_count": null,
      "metadata": {
        "id": "QMt2e-OKBfWW",
        "outputId": "b695ed44-54fe-4a6d-f799-0a36ea939979"
      },
      "outputs": [
        {
          "data": {
            "image/png": "[encoded data removed]",
            "text/plain": [
              "<Figure size 432x288 with 1 Axes>"
            ]
          },
          "metadata": {
            "needs_background": "light"
          },
          "output_type": "display_data"
        }
      ],
      "source": [
        "plt.fig = plt.figure()\n",
        "plt.hist(values.numpy())\n",
        "plt.show()"
      ]
    },
    {
      "cell_type": "code",
      "execution_count": null,
      "metadata": {
        "id": "c40yBSg0BfWW",
        "outputId": "400baefd-ad39-4508-c137-295a4fe8f5ca"
      },
      "outputs": [
        {
          "data": {
            "text/plain": [
              "tensor(16.5450)"
            ]
          },
          "execution_count": 10,
          "metadata": {},
          "output_type": "execute_result"
        }
      ],
      "source": [
        "(values).min()"
      ]
    },
    {
      "cell_type": "markdown",
      "metadata": {
        "id": "9VkWWGrQBfWX"
      },
      "source": [
        "Since values have positively skewed distribution take log transform. Since minimum value is 107, log transform without shift is possible."
      ]
    },
    {
      "cell_type": "code",
      "execution_count": null,
      "metadata": {
        "id": "BbHc8yyhBfWX"
      },
      "outputs": [],
      "source": [
        "DSM[DSM != -1] = np.log(DSM[DSM != -1])"
      ]
    },
    {
      "cell_type": "markdown",
      "metadata": {
        "id": "bDLTfQ0JBfWY"
      },
      "source": [
        "After log transform:"
      ]
    },
    {
      "cell_type": "code",
      "execution_count": null,
      "metadata": {
        "id": "-7bWY7r6BfWY",
        "outputId": "d3ea5036-fcd3-409f-8a3d-9bd829dccdf0"
      },
      "outputs": [
        {
          "data": {
            "image/png": "[encoded data removed]",
            "text/plain": [
              "<Figure size 432x288 with 1 Axes>"
            ]
          },
          "metadata": {
            "needs_background": "light"
          },
          "output_type": "display_data"
        }
      ],
      "source": [
        "values = (DSM != -1).nonzero()\n",
        "values = DSM[ values[:,0] , values[:,1]].view(-1)\n",
        "plt.fig = plt.figure()\n",
        "plt.hist(values.numpy())\n",
        "plt.show()"
      ]
    },
    {
      "cell_type": "markdown",
      "metadata": {
        "id": "oeMx-RJJBfWY"
      },
      "source": [
        "To transform in order to have normal distribution:\n",
        "<br> rescale_image function defined bellow"
      ]
    },
    {
      "cell_type": "code",
      "execution_count": null,
      "metadata": {
        "id": "Xt4ac6KpBfWZ",
        "outputId": "03f8e57a-c5d8-4247-95b8-0883c75579ae"
      },
      "outputs": [
        {
          "name": "stdout",
          "output_type": "stream",
          "text": [
            "/rdsgpfs/general/project/aandedemand/live/satellite/junin/deforestation_forecasting/python_code\n"
          ]
        }
      ],
      "source": [
        "%cd ../\n",
        "from Data_maker_loader import rescale_image\n",
        "DSM  ,mean, std = rescale_image(DSM)\n",
        "del rescale_image"
      ]
    },
    {
      "cell_type": "code",
      "execution_count": null,
      "metadata": {
        "id": "l9GkUVw-BfWt",
        "outputId": "b36288a6-806d-4f66-843c-4ab870394c57"
      },
      "outputs": [
        {
          "name": "stdout",
          "output_type": "stream",
          "text": [
            "Mean after log transform:  tensor([7.2419])\n",
            "Std after log transform:  tensor([0.7253])\n"
          ]
        }
      ],
      "source": [
        "print(\"Mean after log transform: \", mean)\n",
        "print(\"Std after log transform: \", std)"
      ]
    },
    {
      "cell_type": "code",
      "execution_count": null,
      "metadata": {
        "id": "3kGIyePmBfWt",
        "outputId": "439a0846-d373-493d-fb5f-cc65a4f0e4bb"
      },
      "outputs": [
        {
          "data": {
            "image/png": "[encoded data removed]",
            "text/plain": [
              "<Figure size 432x288 with 1 Axes>"
            ]
          },
          "metadata": {
            "needs_background": "light"
          },
          "output_type": "display_data"
        }
      ],
      "source": [
        "values = (DSM[:,:] != -1).nonzero()\n",
        "values = DSM[ values[:,0] , values[:,1]].view(-1)\n",
        "plt.fig = plt.figure()\n",
        "plt.hist(values.numpy())\n",
        "plt.show()"
      ]
    },
    {
      "cell_type": "code",
      "execution_count": null,
      "metadata": {
        "id": "oeUtKI21BfWu"
      },
      "outputs": [],
      "source": [
        "torch.save(DSM,wherepath+\"/\"+'DSM.pt')"
      ]
    },
    {
      "cell_type": "markdown",
      "metadata": {
        "id": "-ktPSD3BBfWu"
      },
      "source": [
        "### In summary, to include this layer do:"
      ]
    },
    {
      "cell_type": "code",
      "execution_count": null,
      "metadata": {
        "id": "hah7Rr6TBfWu"
      },
      "outputs": [],
      "source": [
        "DSM = to_Tensor(sourcepath,'DSM.tif')\n",
        "DSM[datamask == -1 ] = -1\n",
        "# If positive skewed distribution of the values:\n",
        "min_val  = DSM[DSM != -1 ].min().numpy()\n",
        "print(\"Min value of the elevation: \",min_val)\n",
        "# if there is negative values and zero values log transform must be applied after a shift to positive values only.\n",
        "# log(0) = -Inf\n",
        "if min_val > 0:\n",
        "    DSM[DSM != -1] = np.log(DSM[DSM != -1])\n",
        "else:\n",
        "    DSM[DSM != -1] = np.log(DSM[DSM != -1] + min_val + 1)\n",
        "#Normalise:\n",
        "DSM, DSMmean, DSMstd = rescale_image(DSM)\n",
        "print(\"Extracted mean: \",DSMmean)\n",
        "print(\"Devided std: \",DSMstd)"
      ]
    },
    {
      "cell_type": "markdown",
      "metadata": {
        "id": "gdAl_ku9BfWu"
      },
      "source": [
        "## **last_to_image**\n",
        "\n",
        "The following function open the 4 rasters (one for each band) of the last files (eg last_18_1,..last_18_4) and returns them as a tensors of size (4, 14646, 15723)\n",
        "\n",
        "<br>**path** is the sourcepath\n",
        "<br>**year** any of 13,14,15,16,17,18"
      ]
    },
    {
      "cell_type": "code",
      "execution_count": null,
      "metadata": {
        "id": "7qzw3j_LBfWu"
      },
      "outputs": [],
      "source": [
        "def last_to_image(path,year):\n",
        "    \"\"\"\n",
        "    Given path to folder having tiff files for each last band for given year\n",
        "    returns Tensors with chanels == bands and year as requested in the path\n",
        "    \"\"\"\n",
        "    image = []\n",
        "    for b in range(1,5):\n",
        "        band = Image.open(path+\"/\"+'Hansen/last_20%d_%d.tif'%(year,b))\n",
        "        band = ToTensor()(band)\n",
        "        image.append(band)\n",
        "    image = torch.cat(image,dim = 0)\n",
        "    image = image.float()\n",
        "    return(image)"
      ]
    },
    {
      "cell_type": "code",
      "execution_count": null,
      "metadata": {
        "id": "U3K1Wr_vBfWv",
        "outputId": "052cfbc3-fa10-480b-fcf0-0f2b2584bc08"
      },
      "outputs": [
        {
          "name": "stdout",
          "output_type": "stream",
          "text": [
            "torch.Size([4, 17964, 16852])\n",
            "Time needed to load one last file as tensor (in seconds):  41.979917764663696\n"
          ]
        }
      ],
      "source": [
        "start = time.time()\n",
        "#Run this:###########\n",
        "last_16 = last_to_image(sourcepath,16)\n",
        "####################\n",
        "print(last_16.shape)\n",
        "print(\"Time needed to load one last file as tensor (in seconds): \",time.time() - start)"
      ]
    },
    {
      "cell_type": "markdown",
      "metadata": {
        "id": "_dZL8QNnBfWv"
      },
      "source": [
        "## Rescale Image\n",
        "<br> **rescale_image**\n",
        "\n",
        "Get satelite image, compute the mean and std of all\n",
        "non-masked pixels and returns a normalized satellite image.\n",
        "Normalization is done per channel. Reason for that is that different channels have different means and\n",
        "std. Mean and std are also conputed per year because images might be taken at different seasons and therefore the channels values distribution might be different."
      ]
    },
    {
      "cell_type": "markdown",
      "metadata": {
        "id": "Df9uxim4BfWv"
      },
      "source": [
        "### Here we illustrate the 4 channels values distributions  of year 2016 satellite image"
      ]
    },
    {
      "cell_type": "code",
      "execution_count": null,
      "metadata": {
        "id": "0h6j6HbPBfWv"
      },
      "outputs": [],
      "source": [
        "pixels = (last_16[1,:,:] != -1).nonzero()\n",
        "values1 = last_16[0, pixels[:,0] , pixels[:,1]].view(-1)\n",
        "values2 = last_16[1, pixels[:,0] , pixels[:,1]].view(-1)\n",
        "values3 = last_16[2, pixels[:,0] , pixels[:,1]].view(-1)\n",
        "values4 = last_16[3, pixels[:,0] , pixels[:,1]].view(-1)"
      ]
    },
    {
      "cell_type": "code",
      "execution_count": null,
      "metadata": {
        "id": "YqsqsFbqBfWw",
        "outputId": "a6d538e8-9297-46ae-d14e-ec4e9a6d51f5"
      },
      "outputs": [
        {
          "data": {
            "image/png": "[encoded data removed]",
            "text/plain": [
              "<Figure size 432x288 with 4 Axes>"
            ]
          },
          "metadata": {
            "needs_background": "light"
          },
          "output_type": "display_data"
        }
      ],
      "source": [
        "plt.fig = plt.figure()\n",
        "plt.subplot(2, 2, 1)\n",
        "plt.hist(values1.numpy())\n",
        "plt.title(\"band 1\")\n",
        "plt.subplot(2, 2, 2)\n",
        "plt.hist(values2.numpy())\n",
        "plt.title(\"band 2\")\n",
        "plt.subplot(2, 2, 3)\n",
        "plt.hist(values3.numpy())\n",
        "plt.title(\"band 3\")\n",
        "plt.subplot(2, 2, 4)\n",
        "plt.hist(values4.numpy())\n",
        "plt.title(\"band 4\")\n",
        "plt.show()"
      ]
    },
    {
      "cell_type": "code",
      "execution_count": null,
      "metadata": {
        "id": "9uH84aRwBfWw"
      },
      "outputs": [],
      "source": [
        "def rescale_image(image):\n",
        "    # detach and clone the image so that you don't modify the input, but are returning new tensor.\n",
        "    rescaled_image = image.data.clone()\n",
        "    if(len(image.shape) == 2):\n",
        "        rescaled_image = rescaled_image.unsqueeze(dim = 0)\n",
        "    # Compute mean and std only from non masked pixels\n",
        "    # Spatial coordinates of this pixels are:\n",
        "    pixels = (rescaled_image[0,:,:] != -1).nonzero()\n",
        "    mean = rescaled_image[:, pixels[:,0] , pixels[:,1]].mean(1,keepdim=True)\n",
        "    std = rescaled_image[:, pixels[:,0] , pixels[:,1]].std(1,keepdim=True)\n",
        "    rescaled_image[:, pixels[:,0] , pixels[:,1]] -= mean\n",
        "    rescaled_image[:, pixels[:,0] , pixels[:,1]] /= std\n",
        "    if(len(image.shape) == 2):\n",
        "        rescaled_image = rescaled_image.squeeze(dim = 0)\n",
        "        mean = mean.squeeze(dim = 0)\n",
        "        std = std.squeeze(dim = 0)\n",
        "    return(rescaled_image,mean,std)"
      ]
    },
    {
      "cell_type": "code",
      "execution_count": null,
      "metadata": {
        "id": "gAgRdd39BfWw",
        "outputId": "79f26da8-9b88-45eb-b501-02e02957008a"
      },
      "outputs": [
        {
          "name": "stdout",
          "output_type": "stream",
          "text": [
            "Time to rescale one year image: 18.758196115493774\n",
            "\n",
            "Mean of channles : \n",
            " tensor([[18.5237],\n",
            "        [72.7132],\n",
            "        [63.6026],\n",
            "        [31.1686]])\n",
            "\n",
            "Std of channles : \n",
            " tensor([[13.4344],\n",
            "        [19.2726],\n",
            "        [19.4598],\n",
            "        [16.9414]])\n",
            "\n",
            "Original image preserved:  tensor([-1., -1., -1., -1.])\n",
            "Rescaled values at this location:  tensor([-1., -1., -1., -1.])\n"
          ]
        }
      ],
      "source": [
        "st = time.time()\n",
        "rescaled_image, mean, std = rescale_image(last_16)\n",
        "print(\"Time to rescale one year image:\",time.time() - st)\n",
        "print(\"\\nMean of channles : \\n\",mean)\n",
        "print(\"\\nStd of channles : \\n\",std)\n",
        "print(\"\\nOriginal image preserved: \",last_16[:,555,7777])\n",
        "print(\"Rescaled values at this location: \",rescaled_image[:,555,7777])"
      ]
    }
  ],
  "metadata": {
    "kernelspec": {
      "display_name": "Python [conda env:py37]",
      "language": "python",
      "name": "conda-env-py37-py"
    },
    "language_info": {
      "codemirror_mode": {
        "name": "ipython",
        "version": 3
      },
      "file_extension": ".py",
      "mimetype": "text/x-python",
      "name": "python",
      "nbconvert_exporter": "python",
      "pygments_lexer": "ipython3",
      "version": "3.7.3"
    },
    "colab": {
      "provenance": []
    }
  },
  "nbformat": 4,
  "nbformat_minor": 0
}