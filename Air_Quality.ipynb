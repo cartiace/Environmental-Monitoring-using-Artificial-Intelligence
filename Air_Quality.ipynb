{
  "cells": [
    {
      "cell_type": "code",
      "execution_count": null,
      "id": "BA3uHpggc_3M",
      "metadata": {
        "colab": {
          "base_uri": "https://localhost:8080/"
        },
        "id": "BA3uHpggc_3M",
        "outputId": "a3aa5e2b-f457-4f07-b0e2-e6fcf3f750b2"
      },
      "outputs": [
        {
          "output_type": "stream",
          "name": "stdout",
          "text": [
            "Requirement already satisfied: keras_tuner in /usr/local/lib/python3.11/dist-packages (1.4.7)\n",
            "Requirement already satisfied: keras in /usr/local/lib/python3.11/dist-packages (from keras_tuner) (3.8.0)\n",
            "Requirement already satisfied: packaging in /usr/local/lib/python3.11/dist-packages (from keras_tuner) (25.0)\n",
            "Requirement already satisfied: requests in /usr/local/lib/python3.11/dist-packages (from keras_tuner) (2.32.3)\n",
            "Requirement already satisfied: kt-legacy in /usr/local/lib/python3.11/dist-packages (from keras_tuner) (1.0.5)\n",
            "Requirement already satisfied: absl-py in /usr/local/lib/python3.11/dist-packages (from keras->keras_tuner) (1.4.0)\n",
            "Requirement already satisfied: numpy in /usr/local/lib/python3.11/dist-packages (from keras->keras_tuner) (2.0.2)\n",
            "Requirement already satisfied: rich in /usr/local/lib/python3.11/dist-packages (from keras->keras_tuner) (14.0.0)\n",
            "Requirement already satisfied: namex in /usr/local/lib/python3.11/dist-packages (from keras->keras_tuner) (0.0.9)\n",
            "Requirement already satisfied: h5py in /usr/local/lib/python3.11/dist-packages (from keras->keras_tuner) (3.13.0)\n",
            "Requirement already satisfied: optree in /usr/local/lib/python3.11/dist-packages (from keras->keras_tuner) (0.15.0)\n",
            "Requirement already satisfied: ml-dtypes in /usr/local/lib/python3.11/dist-packages (from keras->keras_tuner) (0.5.1)\n",
            "Requirement already satisfied: charset-normalizer<4,>=2 in /usr/local/lib/python3.11/dist-packages (from requests->keras_tuner) (3.4.1)\n",
            "Requirement already satisfied: idna<4,>=2.5 in /usr/local/lib/python3.11/dist-packages (from requests->keras_tuner) (3.10)\n",
            "Requirement already satisfied: urllib3<3,>=1.21.1 in /usr/local/lib/python3.11/dist-packages (from requests->keras_tuner) (2.4.0)\n",
            "Requirement already satisfied: certifi>=2017.4.17 in /usr/local/lib/python3.11/dist-packages (from requests->keras_tuner) (2025.4.26)\n",
            "Requirement already satisfied: typing-extensions>=4.5.0 in /usr/local/lib/python3.11/dist-packages (from optree->keras->keras_tuner) (4.13.2)\n",
            "Requirement already satisfied: markdown-it-py>=2.2.0 in /usr/local/lib/python3.11/dist-packages (from rich->keras->keras_tuner) (3.0.0)\n",
            "Requirement already satisfied: pygments<3.0.0,>=2.13.0 in /usr/local/lib/python3.11/dist-packages (from rich->keras->keras_tuner) (2.19.1)\n",
            "Requirement already satisfied: mdurl~=0.1 in /usr/local/lib/python3.11/dist-packages (from markdown-it-py>=2.2.0->rich->keras->keras_tuner) (0.1.2)\n"
          ]
        }
      ],
      "source": [
        "pip install keras_tuner"
      ]
    },
    {
      "cell_type": "code",
      "source": [
        "pip install tensorflow"
      ],
      "metadata": {
        "colab": {
          "base_uri": "https://localhost:8080/"
        },
        "id": "mkONLZjMP4K_",
        "outputId": "7be9d833-1748-4889-cff9-8a2600cc8ea3"
      },
      "id": "mkONLZjMP4K_",
      "execution_count": null,
      "outputs": [
        {
          "output_type": "stream",
          "name": "stdout",
          "text": [
            "Requirement already satisfied: tensorflow in /usr/local/lib/python3.11/dist-packages (2.19.0)\n",
            "Requirement already satisfied: absl-py>=1.0.0 in /usr/local/lib/python3.11/dist-packages (from tensorflow) (1.4.0)\n",
            "Requirement already satisfied: astunparse>=1.6.0 in /usr/local/lib/python3.11/dist-packages (from tensorflow) (1.6.3)\n",
            "Requirement already satisfied: flatbuffers>=24.3.25 in /usr/local/lib/python3.11/dist-packages (from tensorflow) (25.2.10)\n",
            "Requirement already satisfied: gast!=0.5.0,!=0.5.1,!=0.5.2,>=0.2.1 in /usr/local/lib/python3.11/dist-packages (from tensorflow) (0.6.0)\n",
            "Requirement already satisfied: google-pasta>=0.1.1 in /usr/local/lib/python3.11/dist-packages (from tensorflow) (0.2.0)\n",
            "Requirement already satisfied: libclang>=13.0.0 in /usr/local/lib/python3.11/dist-packages (from tensorflow) (18.1.1)\n",
            "Requirement already satisfied: opt-einsum>=2.3.2 in /usr/local/lib/python3.11/dist-packages (from tensorflow) (3.4.0)\n",
            "Requirement already satisfied: packaging in /usr/local/lib/python3.11/dist-packages (from tensorflow) (25.0)\n",
            "Requirement already satisfied: protobuf!=4.21.0,!=4.21.1,!=4.21.2,!=4.21.3,!=4.21.4,!=4.21.5,<6.0.0dev,>=3.20.3 in /usr/local/lib/python3.11/dist-packages (from tensorflow) (5.29.4)\n",
            "Requirement already satisfied: requests<3,>=2.21.0 in /usr/local/lib/python3.11/dist-packages (from tensorflow) (2.32.3)\n",
            "Requirement already satisfied: setuptools in /usr/local/lib/python3.11/dist-packages (from tensorflow) (75.2.0)\n",
            "Requirement already satisfied: six>=1.12.0 in /usr/local/lib/python3.11/dist-packages (from tensorflow) (1.17.0)\n",
            "Requirement already satisfied: termcolor>=1.1.0 in /usr/local/lib/python3.11/dist-packages (from tensorflow) (3.0.1)\n",
            "Requirement already satisfied: typing-extensions>=3.6.6 in /usr/local/lib/python3.11/dist-packages (from tensorflow) (4.13.2)\n",
            "Requirement already satisfied: wrapt>=1.11.0 in /usr/local/lib/python3.11/dist-packages (from tensorflow) (1.17.2)\n",
            "Requirement already satisfied: grpcio<2.0,>=1.24.3 in /usr/local/lib/python3.11/dist-packages (from tensorflow) (1.71.0)\n",
            "Requirement already satisfied: tensorboard~=2.19.0 in /usr/local/lib/python3.11/dist-packages (from tensorflow) (2.19.0)\n",
            "Requirement already satisfied: keras>=3.5.0 in /usr/local/lib/python3.11/dist-packages (from tensorflow) (3.8.0)\n",
            "Requirement already satisfied: numpy<2.2.0,>=1.26.0 in /usr/local/lib/python3.11/dist-packages (from tensorflow) (2.0.2)\n",
            "Requirement already satisfied: h5py>=3.11.0 in /usr/local/lib/python3.11/dist-packages (from tensorflow) (3.13.0)\n",
            "Requirement already satisfied: ml-dtypes<1.0.0,>=0.5.1 in /usr/local/lib/python3.11/dist-packages (from tensorflow) (0.5.1)\n",
            "Requirement already satisfied: tensorflow-io-gcs-filesystem>=0.23.1 in /usr/local/lib/python3.11/dist-packages (from tensorflow) (0.37.1)\n",
            "Requirement already satisfied: wheel<1.0,>=0.23.0 in /usr/local/lib/python3.11/dist-packages (from astunparse>=1.6.0->tensorflow) (0.45.1)\n",
            "Requirement already satisfied: rich in /usr/local/lib/python3.11/dist-packages (from keras>=3.5.0->tensorflow) (14.0.0)\n",
            "Requirement already satisfied: namex in /usr/local/lib/python3.11/dist-packages (from keras>=3.5.0->tensorflow) (0.0.9)\n",
            "Requirement already satisfied: optree in /usr/local/lib/python3.11/dist-packages (from keras>=3.5.0->tensorflow) (0.15.0)\n",
            "Requirement already satisfied: charset-normalizer<4,>=2 in /usr/local/lib/python3.11/dist-packages (from requests<3,>=2.21.0->tensorflow) (3.4.1)\n",
            "Requirement already satisfied: idna<4,>=2.5 in /usr/local/lib/python3.11/dist-packages (from requests<3,>=2.21.0->tensorflow) (3.10)\n",
            "Requirement already satisfied: urllib3<3,>=1.21.1 in /usr/local/lib/python3.11/dist-packages (from requests<3,>=2.21.0->tensorflow) (2.4.0)\n",
            "Requirement already satisfied: certifi>=2017.4.17 in /usr/local/lib/python3.11/dist-packages (from requests<3,>=2.21.0->tensorflow) (2025.4.26)\n",
            "Requirement already satisfied: markdown>=2.6.8 in /usr/lib/python3/dist-packages (from tensorboard~=2.19.0->tensorflow) (3.3.6)\n",
            "Requirement already satisfied: tensorboard-data-server<0.8.0,>=0.7.0 in /usr/local/lib/python3.11/dist-packages (from tensorboard~=2.19.0->tensorflow) (0.7.2)\n",
            "Requirement already satisfied: werkzeug>=1.0.1 in /usr/local/lib/python3.11/dist-packages (from tensorboard~=2.19.0->tensorflow) (3.1.3)\n",
            "Requirement already satisfied: MarkupSafe>=2.1.1 in /usr/local/lib/python3.11/dist-packages (from werkzeug>=1.0.1->tensorboard~=2.19.0->tensorflow) (3.0.2)\n",
            "Requirement already satisfied: markdown-it-py>=2.2.0 in /usr/local/lib/python3.11/dist-packages (from rich->keras>=3.5.0->tensorflow) (3.0.0)\n",
            "Requirement already satisfied: pygments<3.0.0,>=2.13.0 in /usr/local/lib/python3.11/dist-packages (from rich->keras>=3.5.0->tensorflow) (2.19.1)\n",
            "Requirement already satisfied: mdurl~=0.1 in /usr/local/lib/python3.11/dist-packages (from markdown-it-py>=2.2.0->rich->keras>=3.5.0->tensorflow) (0.1.2)\n"
          ]
        }
      ]
    },
    {
      "cell_type": "code",
      "execution_count": null,
      "id": "VZgSV_WNdA2c",
      "metadata": {
        "id": "VZgSV_WNdA2c",
        "colab": {
          "base_uri": "https://localhost:8080/"
        },
        "outputId": "4331caad-37ab-4e28-cb05-6ca2067d7baf"
      },
      "outputs": [
        {
          "output_type": "stream",
          "name": "stdout",
          "text": [
            "Drive already mounted at /content/drive; to attempt to forcibly remount, call drive.mount(\"/content/drive\", force_remount=True).\n"
          ]
        }
      ],
      "source": [
        "from google.colab import drive\n",
        "drive.mount('/content/drive')"
      ]
    },
    {
      "cell_type": "code",
      "execution_count": null,
      "id": "a32539f3",
      "metadata": {
        "id": "a32539f3"
      },
      "outputs": [],
      "source": [
        "import os\n",
        "import glob\n",
        "import time\n",
        "import numpy as np\n",
        "import pandas as pd\n",
        "import matplotlib.pyplot as plt\n",
        "import seaborn as sns\n",
        "sns.set_theme()\n",
        "\n",
        "from IPython.display import clear_output\n",
        "\n",
        "from copy import deepcopy\n",
        "\n",
        "import tensorflow as tf\n",
        "from tensorflow.keras import Input\n",
        "from tensorflow.keras.layers import Dense, LSTM, Bidirectional, Conv1D, Flatten\n",
        "from tensorflow.keras.losses import MeanSquaredError\n",
        "from tensorflow.keras.metrics import MeanAbsoluteError\n",
        "from tensorflow.keras.optimizers import Adam\n",
        "import keras_tuner as kt\n",
        "\n",
        "# Set seed to make Python, NumPy, and TensorFlow deterministic.\n",
        "tf.keras.utils.set_random_seed(27)"
      ]
    },
    {
      "cell_type": "code",
      "execution_count": null,
      "id": "37004d90",
      "metadata": {
        "id": "37004d90"
      },
      "outputs": [],
      "source": [
        "DATASET_SRC = '/content/drive/MyDrive/Major Dataset/Air Quality/LARGE DATASET'"
      ]
    },
    {
      "cell_type": "markdown",
      "id": "a9b67777",
      "metadata": {
        "id": "a9b67777"
      },
      "source": [
        "## Data Preprocessing\n",
        "\n",
        "Steps performed in this section:\n",
        "\n",
        "1. Feature Reduction\n",
        "2. Missing Values"
      ]
    },
    {
      "cell_type": "code",
      "execution_count": null,
      "id": "0cff035f",
      "metadata": {
        "id": "0cff035f"
      },
      "outputs": [],
      "source": [
        "df_states = pd.read_csv(f'{DATASET_SRC}/stations_info.csv')\n",
        "df_states.drop(columns=['agency', 'station_location', 'start_month'], inplace=True)"
      ]
    },
    {
      "cell_type": "code",
      "execution_count": null,
      "id": "d1fcc0c8",
      "metadata": {
        "id": "d1fcc0c8"
      },
      "outputs": [],
      "source": [
        "def combine_state_df(state_name):\n",
        "    '''\n",
        "    Combine all state files into a single dataframe and attaching the city information.\n",
        "\n",
        "    Parameters\n",
        "        state_name (str): The name of the state\n",
        "\n",
        "    Return\n",
        "        df (DataFrame): The combined dataframe from all files of a specific state\n",
        "    '''\n",
        "\n",
        "    state_code = df_states[df_states['state'] == state_name]['file_name'].iloc[0][:2]\n",
        "    state_files = glob.glob(f'{DATASET_SRC}/{state_code}*.csv')\n",
        "    print(f'Combining a total of {len(state_files)} files...\\n')\n",
        "\n",
        "    combined_df = []\n",
        "\n",
        "    for state_file in state_files:\n",
        "        file_name = state_file.split(f'{DATASET_SRC}/')[1][0:-4]\n",
        "        file_df = pd.read_csv(state_file)\n",
        "        file_df['city'] = df_states[df_states['file_name'] == file_name]['city'].values[0]\n",
        "        file_df['city'] = file_df['city'].astype('string')\n",
        "        combined_df.append(file_df)\n",
        "\n",
        "    return pd.concat(combined_df)"
      ]
    },
    {
      "cell_type": "code",
      "execution_count": null,
      "id": "de053fc1",
      "metadata": {
        "id": "de053fc1",
        "colab": {
          "base_uri": "https://localhost:8080/"
        },
        "outputId": "b4b0dc05-33f7-425f-b22c-ca03c457a07c"
      },
      "outputs": [
        {
          "output_type": "stream",
          "name": "stdout",
          "text": [
            "Combining a total of 40 files...\n",
            "\n"
          ]
        }
      ],
      "source": [
        "df = combine_state_df('Delhi')"
      ]
    },
    {
      "cell_type": "code",
      "execution_count": null,
      "id": "bddb13c8",
      "metadata": {
        "id": "bddb13c8"
      },
      "outputs": [],
      "source": [
        "# Make the 'From Date' column the index as datetime\n",
        "def create_dt_index(dataframe):\n",
        "    dataframe = dataframe.drop(columns='To Date')\n",
        "    dataframe['From Date'] = pd.to_datetime(dataframe['From Date'])\n",
        "    dataframe = dataframe.rename(columns={'From Date': 'datetime'})\n",
        "    return dataframe.set_index('datetime')"
      ]
    },
    {
      "cell_type": "code",
      "execution_count": null,
      "id": "3b346261",
      "metadata": {
        "id": "3b346261"
      },
      "outputs": [],
      "source": [
        "df = create_dt_index(df)"
      ]
    },
    {
      "cell_type": "markdown",
      "id": "e19fcc11",
      "metadata": {
        "id": "e19fcc11"
      },
      "source": [
        "### Feature Reduction\n",
        "\n",
        "As observed from the dataframe's info, some features appear to be similar. In this subsection we merge the similarities between features."
      ]
    },
    {
      "cell_type": "code",
      "execution_count": null,
      "id": "daca5332",
      "metadata": {
        "id": "daca5332"
      },
      "outputs": [],
      "source": [
        "reduction_groups = {\n",
        "    \"Xylene (ug/m3)\":    [\"Xylene ()\"],\n",
        "    \"MP-Xylene (ug/m3)\": [\"MP-Xylene ()\"],\n",
        "    \"Benzene (ug/m3)\":   [\"Benzene ()\"],\n",
        "    \"Toluene (ug/m3)\":   [\"Toluene ()\"],\n",
        "    \"SO2 (ug/m3)\":       [\"SO2 ()\"],\n",
        "    \"NOx (ug/m3)\":       [\"NOx (ppb)\"],\n",
        "    \"Ozone (ug/m3)\":     [\"Ozone (ppb)\"],\n",
        "    \"AT (degree C)\":     [\"AT ()\"],\n",
        "    \"WD (degree)\":       [\"WD (degree C)\", \"WD (deg)\", \"WD ()\"],\n",
        "    \"WS (m/s)\":          [\"WS ()\"]\n",
        "}"
      ]
    },
    {
      "cell_type": "code",
      "execution_count": null,
      "id": "1a4557cb",
      "metadata": {
        "id": "1a4557cb"
      },
      "outputs": [],
      "source": [
        "def merge_columns(dataframe, columns):\n",
        "    '''\n",
        "    Merges column records into a single column.\n",
        "\n",
        "    Parameters\n",
        "        dataframe (DataFrame): The DataFrame to edit\n",
        "        column (str): The name of the column to merge records into\n",
        "        cols_to_merge (list[str]): A list of column names to retrieve records\n",
        "    '''\n",
        "\n",
        "    for column, cols_to_merge in columns.items():\n",
        "        # Check if the original column exist, otherwise create it\n",
        "        if column not in dataframe.columns and any(name in dataframe.columns for name in cols_to_merge):\n",
        "            dataframe[column] = np.nan\n",
        "\n",
        "        for col_name in cols_to_merge:\n",
        "            if col_name in dataframe.columns:\n",
        "                dataframe[column] = dataframe[column].fillna(dataframe[col_name])\n",
        "                dataframe = dataframe.drop(columns=[col_name])\n",
        "\n",
        "    return dataframe"
      ]
    },
    {
      "cell_type": "code",
      "execution_count": null,
      "id": "047286dd",
      "metadata": {
        "id": "047286dd"
      },
      "outputs": [],
      "source": [
        "df = merge_columns(df, reduction_groups)"
      ]
    },
    {
      "cell_type": "markdown",
      "id": "51ce0a41",
      "metadata": {
        "id": "51ce0a41"
      },
      "source": [
        "### Missing Values\n",
        "\n",
        "This subsection handles missing values in the dataset."
      ]
    },
    {
      "cell_type": "code",
      "execution_count": null,
      "id": "99d3aac8",
      "metadata": {
        "id": "99d3aac8"
      },
      "outputs": [],
      "source": [
        "df = df.dropna(how='all')\n",
        "df = df.dropna(how='all', axis='columns')"
      ]
    },
    {
      "cell_type": "code",
      "execution_count": null,
      "id": "4de1024c",
      "metadata": {
        "id": "4de1024c"
      },
      "outputs": [],
      "source": [
        "# Threshold value indicating how much of the dataset needs to be not missing.\n",
        "threshold = 0.6\n",
        "df = df.dropna(thresh=df.shape[0]*threshold, axis=1)"
      ]
    },
    {
      "cell_type": "markdown",
      "id": "ab8a21e4",
      "metadata": {
        "id": "ab8a21e4"
      },
      "source": [
        "## Feature Engineering\n",
        "\n",
        "### Drop Correlated Features"
      ]
    },
    {
      "cell_type": "code",
      "execution_count": null,
      "id": "eac071db",
      "metadata": {
        "id": "eac071db"
      },
      "outputs": [],
      "source": [
        "df = df.drop(['NO (ug/m3)', 'NO2 (ug/m3)'], axis=1)"
      ]
    },
    {
      "cell_type": "markdown",
      "id": "8c16f24a",
      "metadata": {
        "id": "8c16f24a"
      },
      "source": [
        "### Outlier Detection and Removal\n",
        "\n",
        "In general outliers are able to distort analyses and skew results. They are extreme values that can greatly differ from the rest of the data. By removing the influence of such extreme data points we can make more robust and accurate predictions."
      ]
    },
    {
      "cell_type": "code",
      "execution_count": null,
      "id": "461619f2",
      "metadata": {
        "id": "461619f2"
      },
      "outputs": [],
      "source": [
        "df['PM2.5 (ug/m3)'] = df['PM2.5 (ug/m3)'].mask(df['PM2.5 (ug/m3)'].gt(950))\n",
        "df['CO (mg/m3)'] = df['CO (mg/m3)'].mask(((df.index > '2015') & df['CO (mg/m3)'].gt(35)))\n",
        "df['Ozone (ug/m3)'] = df['Ozone (ug/m3)'].mask(df['Ozone (ug/m3)'].gt(185))\n",
        "df['NOx (ug/m3)'] = df['NOx (ug/m3)'].mask((\n",
        "    ((df.index < '2013') & (df['NOx (ug/m3)'].gt(380))) |\n",
        "    ((df.index > '2015') & (df.index < '2016') & (df['NOx (ug/m3)'].gt(400))) |\n",
        "    ((df.index > '2016') & (df['NOx (ug/m3)'].gt(450)))\n",
        "))"
      ]
    },
    {
      "cell_type": "markdown",
      "id": "68851ab2",
      "metadata": {
        "id": "68851ab2"
      },
      "source": [
        "### Handling Missing Values"
      ]
    },
    {
      "cell_type": "code",
      "execution_count": null,
      "id": "386fac98",
      "metadata": {
        "colab": {
          "base_uri": "https://localhost:8080/"
        },
        "id": "386fac98",
        "outputId": "29e07f91-2d6a-4ec0-d874-5b3870be21c4"
      },
      "outputs": [
        {
          "output_type": "stream",
          "name": "stderr",
          "text": [
            "<ipython-input-63-128abd2e6576>:2: FutureWarning: DataFrame.interpolate with method=pad is deprecated and will raise in a future version. Use obj.ffill() or obj.bfill() instead.\n",
            "  df = df.interpolate(method='pad')\n"
          ]
        }
      ],
      "source": [
        "#df = df.fillna(df.mean())\n",
        "df = df.interpolate(method='pad')"
      ]
    },
    {
      "cell_type": "markdown",
      "id": "7a977ef8",
      "metadata": {
        "id": "7a977ef8"
      },
      "source": [
        "### Date Component Features\n",
        "\n",
        "Let's prepare our dataset by enhancing it with useful datetime features."
      ]
    },
    {
      "cell_type": "code",
      "execution_count": null,
      "id": "a1c19298",
      "metadata": {
        "id": "a1c19298"
      },
      "outputs": [],
      "source": [
        "date_time = pd.to_datetime(df.index, format='%d.%m.%Y %H:%M:%S')\n",
        "timestamp = date_time.map(pd.Timestamp.timestamp)"
      ]
    },
    {
      "cell_type": "code",
      "execution_count": null,
      "id": "dbe1e6a5",
      "metadata": {
        "id": "dbe1e6a5"
      },
      "outputs": [],
      "source": [
        "day = 24*60*60\n",
        "year = (365.2425)*day\n",
        "\n",
        "df['Day sin'] = np.sin(timestamp * (2 * np.pi / day))\n",
        "df['Day cos'] = np.cos(timestamp * (2 * np.pi / day))\n",
        "df['Year sin'] = np.sin(timestamp * (2 * np.pi / year))\n",
        "df['Year cos'] = np.cos(timestamp * (2 * np.pi / year))\n",
        "\n",
        "DATETIME_FEATURES = ['Day sin', 'Day cos', 'Year sin', 'Year cos']"
      ]
    },
    {
      "cell_type": "code",
      "execution_count": null,
      "id": "3b940f5a",
      "metadata": {
        "id": "3b940f5a",
        "colab": {
          "base_uri": "https://localhost:8080/",
          "height": 498
        },
        "outputId": "9e102cc2-81ce-4300-d7c8-2fcb421ed2ad"
      },
      "outputs": [
        {
          "output_type": "execute_result",
          "data": {
            "text/plain": [
              "Text(0.5, 1.0, 'Time of day signal')"
            ]
          },
          "metadata": {},
          "execution_count": 66
        },
        {
          "output_type": "display_data",
          "data": {
            "text/plain": [
              "<Figure size 640x480 with 1 Axes>"
            ],
            "image/png": "[encoded data removed]"
          },
          "metadata": {}
        }
      ],
      "source": [
        "plt.plot(np.array(df['Day sin'])[:24])\n",
        "plt.plot(np.array(df['Day cos'])[:24])\n",
        "plt.xlabel('Time [h]')\n",
        "plt.title('Time of day signal')"
      ]
    },
    {
      "cell_type": "markdown",
      "id": "43df90f8",
      "metadata": {
        "id": "43df90f8"
      },
      "source": [
        "With this dataset, it's actually beneficial to eliminate the earliest records. If we check the plots we can see that in the early years there were a lot of various data records suggesting either faulty equipment or some other problem."
      ]
    },
    {
      "cell_type": "code",
      "execution_count": null,
      "id": "cec4c083",
      "metadata": {
        "id": "cec4c083"
      },
      "outputs": [],
      "source": [
        "df = df.query('datetime > 2014')"
      ]
    },
    {
      "cell_type": "code",
      "execution_count": null,
      "id": "90719849",
      "metadata": {
        "id": "90719849",
        "colab": {
          "base_uri": "https://localhost:8080/",
          "height": 1000
        },
        "outputId": "ad1acb16-7024-4afe-de1a-0f9a90c822da"
      },
      "outputs": [
        {
          "output_type": "execute_result",
          "data": {
            "text/plain": [
              "                     PM2.5 (ug/m3)  CO (mg/m3)  Ozone (ug/m3)   city  \\\n",
              "datetime                                                               \n",
              "2014-01-01 01:00:00            NaN       11.75           2.75  Delhi   \n",
              "2014-01-01 02:00:00            NaN       11.00           2.50  Delhi   \n",
              "2014-01-01 03:00:00            NaN       15.75           2.75  Delhi   \n",
              "2014-01-01 04:00:00            NaN       13.50           2.75  Delhi   \n",
              "2014-01-01 05:00:00            NaN       12.75           2.50  Delhi   \n",
              "2014-01-01 06:00:00            NaN       12.25           2.25  Delhi   \n",
              "2014-01-01 07:00:00            NaN       11.50           2.50  Delhi   \n",
              "2014-01-01 08:00:00            NaN       10.25           2.50  Delhi   \n",
              "2014-01-01 09:00:00            NaN       10.00           2.50  Delhi   \n",
              "2014-01-01 10:00:00            NaN        8.25           2.50  Delhi   \n",
              "2014-01-01 11:00:00            NaN        7.50           2.25  Delhi   \n",
              "2014-01-01 12:00:00            NaN       10.00           2.00  Delhi   \n",
              "2014-01-01 13:00:00            NaN       13.25           2.25  Delhi   \n",
              "2014-01-01 14:00:00            NaN       12.00           2.25  Delhi   \n",
              "2014-01-01 15:00:00            NaN       13.75           2.50  Delhi   \n",
              "2014-01-01 16:00:00            NaN       11.25           3.25  Delhi   \n",
              "2014-01-01 17:00:00            NaN       12.00           4.25  Delhi   \n",
              "2014-01-01 18:00:00            NaN       14.25           5.50  Delhi   \n",
              "2014-01-01 19:00:00            NaN       15.25           5.75  Delhi   \n",
              "2014-01-01 20:00:00            NaN       11.00           3.75  Delhi   \n",
              "\n",
              "                     NOx (ug/m3)       Day sin       Day cos  Year sin  \\\n",
              "datetime                                                                 \n",
              "2014-01-01 01:00:00        64.62  2.588190e-01  9.659258e-01  0.006394   \n",
              "2014-01-01 02:00:00        63.37  5.000000e-01  8.660254e-01  0.007110   \n",
              "2014-01-01 03:00:00        54.73  7.071068e-01  7.071068e-01  0.007827   \n",
              "2014-01-01 04:00:00        53.04  8.660254e-01  5.000000e-01  0.008544   \n",
              "2014-01-01 05:00:00        49.43  9.659258e-01  2.588190e-01  0.009261   \n",
              "2014-01-01 06:00:00        36.41  1.000000e+00 -1.309261e-12  0.009977   \n",
              "2014-01-01 07:00:00        35.09  9.659258e-01 -2.588190e-01  0.010694   \n",
              "2014-01-01 08:00:00        57.42  8.660254e-01 -5.000000e-01  0.011411   \n",
              "2014-01-01 09:00:00        78.18  7.071068e-01 -7.071068e-01  0.012128   \n",
              "2014-01-01 10:00:00        73.95  5.000000e-01 -8.660254e-01  0.012844   \n",
              "2014-01-01 11:00:00        73.75  2.588190e-01 -9.659258e-01  0.013561   \n",
              "2014-01-01 12:00:00        71.23  1.254083e-12 -1.000000e+00  0.014278   \n",
              "2014-01-01 13:00:00        46.97 -2.588190e-01 -9.659258e-01  0.014995   \n",
              "2014-01-01 14:00:00        41.46 -5.000000e-01 -8.660254e-01  0.015711   \n",
              "2014-01-01 15:00:00        39.71 -7.071068e-01 -7.071068e-01  0.016428   \n",
              "2014-01-01 16:00:00        42.24 -8.660254e-01 -5.000000e-01  0.017145   \n",
              "2014-01-01 17:00:00        59.54 -9.659258e-01 -2.588190e-01  0.017861   \n",
              "2014-01-01 18:00:00        53.78 -1.000000e+00 -3.817428e-12  0.018578   \n",
              "2014-01-01 19:00:00        53.49 -9.659258e-01  2.588190e-01  0.019295   \n",
              "2014-01-01 20:00:00        55.55 -8.660254e-01  5.000000e-01  0.020011   \n",
              "\n",
              "                     Year cos  \n",
              "datetime                       \n",
              "2014-01-01 01:00:00  0.999980  \n",
              "2014-01-01 02:00:00  0.999975  \n",
              "2014-01-01 03:00:00  0.999969  \n",
              "2014-01-01 04:00:00  0.999963  \n",
              "2014-01-01 05:00:00  0.999957  \n",
              "2014-01-01 06:00:00  0.999950  \n",
              "2014-01-01 07:00:00  0.999943  \n",
              "2014-01-01 08:00:00  0.999935  \n",
              "2014-01-01 09:00:00  0.999926  \n",
              "2014-01-01 10:00:00  0.999918  \n",
              "2014-01-01 11:00:00  0.999908  \n",
              "2014-01-01 12:00:00  0.999898  \n",
              "2014-01-01 13:00:00  0.999888  \n",
              "2014-01-01 14:00:00  0.999877  \n",
              "2014-01-01 15:00:00  0.999865  \n",
              "2014-01-01 16:00:00  0.999853  \n",
              "2014-01-01 17:00:00  0.999840  \n",
              "2014-01-01 18:00:00  0.999827  \n",
              "2014-01-01 19:00:00  0.999814  \n",
              "2014-01-01 20:00:00  0.999800  "
            ],
            "text/html": [
              "\n",
              "  <div id=\"df-a7102422-e1e2-421a-ab96-df62b8ab8e4f\" class=\"colab-df-container\">\n",
              "    <div>\n",
              "<style scoped>\n",
              "    .dataframe tbody tr th:only-of-type {\n",
              "        vertical-align: middle;\n",
              "    }\n",
              "\n",
              "    .dataframe tbody tr th {\n",
              "        vertical-align: top;\n",
              "    }\n",
              "\n",
              "    .dataframe thead th {\n",
              "        text-align: right;\n",
              "    }\n",
              "</style>\n",
              "<table border=\"1\" class=\"dataframe\">\n",
              "  <thead>\n",
              "    <tr style=\"text-align: right;\">\n",
              "      <th></th>\n",
              "      <th>PM2.5 (ug/m3)</th>\n",
              "      <th>CO (mg/m3)</th>\n",
              "      <th>Ozone (ug/m3)</th>\n",
              "      <th>city</th>\n",
              "      <th>NOx (ug/m3)</th>\n",
              "      <th>Day sin</th>\n",
              "      <th>Day cos</th>\n",
              "      <th>Year sin</th>\n",
              "      <th>Year cos</th>\n",
              "    </tr>\n",
              "    <tr>\n",
              "      <th>datetime</th>\n",
              "      <th></th>\n",
              "      <th></th>\n",
              "      <th></th>\n",
              "      <th></th>\n",
              "      <th></th>\n",
              "      <th></th>\n",
              "      <th></th>\n",
              "      <th></th>\n",
              "      <th></th>\n",
              "    </tr>\n",
              "  </thead>\n",
              "  <tbody>\n",
              "    <tr>\n",
              "      <th>2014-01-01 01:00:00</th>\n",
              "      <td>NaN</td>\n",
              "      <td>11.75</td>\n",
              "      <td>2.75</td>\n",
              "      <td>Delhi</td>\n",
              "      <td>64.62</td>\n",
              "      <td>2.588190e-01</td>\n",
              "      <td>9.659258e-01</td>\n",
              "      <td>0.006394</td>\n",
              "      <td>0.999980</td>\n",
              "    </tr>\n",
              "    <tr>\n",
              "      <th>2014-01-01 02:00:00</th>\n",
              "      <td>NaN</td>\n",
              "      <td>11.00</td>\n",
              "      <td>2.50</td>\n",
              "      <td>Delhi</td>\n",
              "      <td>63.37</td>\n",
              "      <td>5.000000e-01</td>\n",
              "      <td>8.660254e-01</td>\n",
              "      <td>0.007110</td>\n",
              "      <td>0.999975</td>\n",
              "    </tr>\n",
              "    <tr>\n",
              "      <th>2014-01-01 03:00:00</th>\n",
              "      <td>NaN</td>\n",
              "      <td>15.75</td>\n",
              "      <td>2.75</td>\n",
              "      <td>Delhi</td>\n",
              "      <td>54.73</td>\n",
              "      <td>7.071068e-01</td>\n",
              "      <td>7.071068e-01</td>\n",
              "      <td>0.007827</td>\n",
              "      <td>0.999969</td>\n",
              "    </tr>\n",
              "    <tr>\n",
              "      <th>2014-01-01 04:00:00</th>\n",
              "      <td>NaN</td>\n",
              "      <td>13.50</td>\n",
              "      <td>2.75</td>\n",
              "      <td>Delhi</td>\n",
              "      <td>53.04</td>\n",
              "      <td>8.660254e-01</td>\n",
              "      <td>5.000000e-01</td>\n",
              "      <td>0.008544</td>\n",
              "      <td>0.999963</td>\n",
              "    </tr>\n",
              "    <tr>\n",
              "      <th>2014-01-01 05:00:00</th>\n",
              "      <td>NaN</td>\n",
              "      <td>12.75</td>\n",
              "      <td>2.50</td>\n",
              "      <td>Delhi</td>\n",
              "      <td>49.43</td>\n",
              "      <td>9.659258e-01</td>\n",
              "      <td>2.588190e-01</td>\n",
              "      <td>0.009261</td>\n",
              "      <td>0.999957</td>\n",
              "    </tr>\n",
              "    <tr>\n",
              "      <th>2014-01-01 06:00:00</th>\n",
              "      <td>NaN</td>\n",
              "      <td>12.25</td>\n",
              "      <td>2.25</td>\n",
              "      <td>Delhi</td>\n",
              "      <td>36.41</td>\n",
              "      <td>1.000000e+00</td>\n",
              "      <td>-1.309261e-12</td>\n",
              "      <td>0.009977</td>\n",
              "      <td>0.999950</td>\n",
              "    </tr>\n",
              "    <tr>\n",
              "      <th>2014-01-01 07:00:00</th>\n",
              "      <td>NaN</td>\n",
              "      <td>11.50</td>\n",
              "      <td>2.50</td>\n",
              "      <td>Delhi</td>\n",
              "      <td>35.09</td>\n",
              "      <td>9.659258e-01</td>\n",
              "      <td>-2.588190e-01</td>\n",
              "      <td>0.010694</td>\n",
              "      <td>0.999943</td>\n",
              "    </tr>\n",
              "    <tr>\n",
              "      <th>2014-01-01 08:00:00</th>\n",
              "      <td>NaN</td>\n",
              "      <td>10.25</td>\n",
              "      <td>2.50</td>\n",
              "      <td>Delhi</td>\n",
              "      <td>57.42</td>\n",
              "      <td>8.660254e-01</td>\n",
              "      <td>-5.000000e-01</td>\n",
              "      <td>0.011411</td>\n",
              "      <td>0.999935</td>\n",
              "    </tr>\n",
              "    <tr>\n",
              "      <th>2014-01-01 09:00:00</th>\n",
              "      <td>NaN</td>\n",
              "      <td>10.00</td>\n",
              "      <td>2.50</td>\n",
              "      <td>Delhi</td>\n",
              "      <td>78.18</td>\n",
              "      <td>7.071068e-01</td>\n",
              "      <td>-7.071068e-01</td>\n",
              "      <td>0.012128</td>\n",
              "      <td>0.999926</td>\n",
              "    </tr>\n",
              "    <tr>\n",
              "      <th>2014-01-01 10:00:00</th>\n",
              "      <td>NaN</td>\n",
              "      <td>8.25</td>\n",
              "      <td>2.50</td>\n",
              "      <td>Delhi</td>\n",
              "      <td>73.95</td>\n",
              "      <td>5.000000e-01</td>\n",
              "      <td>-8.660254e-01</td>\n",
              "      <td>0.012844</td>\n",
              "      <td>0.999918</td>\n",
              "    </tr>\n",
              "    <tr>\n",
              "      <th>2014-01-01 11:00:00</th>\n",
              "      <td>NaN</td>\n",
              "      <td>7.50</td>\n",
              "      <td>2.25</td>\n",
              "      <td>Delhi</td>\n",
              "      <td>73.75</td>\n",
              "      <td>2.588190e-01</td>\n",
              "      <td>-9.659258e-01</td>\n",
              "      <td>0.013561</td>\n",
              "      <td>0.999908</td>\n",
              "    </tr>\n",
              "    <tr>\n",
              "      <th>2014-01-01 12:00:00</th>\n",
              "      <td>NaN</td>\n",
              "      <td>10.00</td>\n",
              "      <td>2.00</td>\n",
              "      <td>Delhi</td>\n",
              "      <td>71.23</td>\n",
              "      <td>1.254083e-12</td>\n",
              "      <td>-1.000000e+00</td>\n",
              "      <td>0.014278</td>\n",
              "      <td>0.999898</td>\n",
              "    </tr>\n",
              "    <tr>\n",
              "      <th>2014-01-01 13:00:00</th>\n",
              "      <td>NaN</td>\n",
              "      <td>13.25</td>\n",
              "      <td>2.25</td>\n",
              "      <td>Delhi</td>\n",
              "      <td>46.97</td>\n",
              "      <td>-2.588190e-01</td>\n",
              "      <td>-9.659258e-01</td>\n",
              "      <td>0.014995</td>\n",
              "      <td>0.999888</td>\n",
              "    </tr>\n",
              "    <tr>\n",
              "      <th>2014-01-01 14:00:00</th>\n",
              "      <td>NaN</td>\n",
              "      <td>12.00</td>\n",
              "      <td>2.25</td>\n",
              "      <td>Delhi</td>\n",
              "      <td>41.46</td>\n",
              "      <td>-5.000000e-01</td>\n",
              "      <td>-8.660254e-01</td>\n",
              "      <td>0.015711</td>\n",
              "      <td>0.999877</td>\n",
              "    </tr>\n",
              "    <tr>\n",
              "      <th>2014-01-01 15:00:00</th>\n",
              "      <td>NaN</td>\n",
              "      <td>13.75</td>\n",
              "      <td>2.50</td>\n",
              "      <td>Delhi</td>\n",
              "      <td>39.71</td>\n",
              "      <td>-7.071068e-01</td>\n",
              "      <td>-7.071068e-01</td>\n",
              "      <td>0.016428</td>\n",
              "      <td>0.999865</td>\n",
              "    </tr>\n",
              "    <tr>\n",
              "      <th>2014-01-01 16:00:00</th>\n",
              "      <td>NaN</td>\n",
              "      <td>11.25</td>\n",
              "      <td>3.25</td>\n",
              "      <td>Delhi</td>\n",
              "      <td>42.24</td>\n",
              "      <td>-8.660254e-01</td>\n",
              "      <td>-5.000000e-01</td>\n",
              "      <td>0.017145</td>\n",
              "      <td>0.999853</td>\n",
              "    </tr>\n",
              "    <tr>\n",
              "      <th>2014-01-01 17:00:00</th>\n",
              "      <td>NaN</td>\n",
              "      <td>12.00</td>\n",
              "      <td>4.25</td>\n",
              "      <td>Delhi</td>\n",
              "      <td>59.54</td>\n",
              "      <td>-9.659258e-01</td>\n",
              "      <td>-2.588190e-01</td>\n",
              "      <td>0.017861</td>\n",
              "      <td>0.999840</td>\n",
              "    </tr>\n",
              "    <tr>\n",
              "      <th>2014-01-01 18:00:00</th>\n",
              "      <td>NaN</td>\n",
              "      <td>14.25</td>\n",
              "      <td>5.50</td>\n",
              "      <td>Delhi</td>\n",
              "      <td>53.78</td>\n",
              "      <td>-1.000000e+00</td>\n",
              "      <td>-3.817428e-12</td>\n",
              "      <td>0.018578</td>\n",
              "      <td>0.999827</td>\n",
              "    </tr>\n",
              "    <tr>\n",
              "      <th>2014-01-01 19:00:00</th>\n",
              "      <td>NaN</td>\n",
              "      <td>15.25</td>\n",
              "      <td>5.75</td>\n",
              "      <td>Delhi</td>\n",
              "      <td>53.49</td>\n",
              "      <td>-9.659258e-01</td>\n",
              "      <td>2.588190e-01</td>\n",
              "      <td>0.019295</td>\n",
              "      <td>0.999814</td>\n",
              "    </tr>\n",
              "    <tr>\n",
              "      <th>2014-01-01 20:00:00</th>\n",
              "      <td>NaN</td>\n",
              "      <td>11.00</td>\n",
              "      <td>3.75</td>\n",
              "      <td>Delhi</td>\n",
              "      <td>55.55</td>\n",
              "      <td>-8.660254e-01</td>\n",
              "      <td>5.000000e-01</td>\n",
              "      <td>0.020011</td>\n",
              "      <td>0.999800</td>\n",
              "    </tr>\n",
              "  </tbody>\n",
              "</table>\n",
              "</div>\n",
              "    <div class=\"colab-df-buttons\">\n",
              "\n",
              "  <div class=\"colab-df-container\">\n",
              "    <button class=\"colab-df-convert\" onclick=\"convertToInteractive('df-a7102422-e1e2-421a-ab96-df62b8ab8e4f')\"\n",
              "            title=\"Convert this dataframe to an interactive table.\"\n",
              "            style=\"display:none;\">\n",
              "\n",
              "  <svg xmlns=\"http://www.w3.org/2000/svg\" height=\"24px\" viewBox=\"0 -960 960 960\">\n",
              "    <path d=\"M120-120v-720h720v720H120Zm60-500h600v-160H180v160Zm220 220h160v-160H400v160Zm0 220h160v-160H400v160ZM180-400h160v-160H180v160Zm440 0h160v-160H620v160ZM180-180h160v-160H180v160Zm440 0h160v-160H620v160Z\"/>\n",
              "  </svg>\n",
              "    </button>\n",
              "\n",
              "  <style>\n",
              "    .colab-df-container {\n",
              "      display:flex;\n",
              "      gap: 12px;\n",
              "    }\n",
              "\n",
              "    .colab-df-convert {\n",
              "      background-color: #E8F0FE;\n",
              "      border: none;\n",
              "      border-radius: 50%;\n",
              "      cursor: pointer;\n",
              "      display: none;\n",
              "      fill: #1967D2;\n",
              "      height: 32px;\n",
              "      padding: 0 0 0 0;\n",
              "      width: 32px;\n",
              "    }\n",
              "\n",
              "    .colab-df-convert:hover {\n",
              "      background-color: #E2EBFA;\n",
              "      box-shadow: 0px 1px 2px rgba(60, 64, 67, 0.3), 0px 1px 3px 1px rgba(60, 64, 67, 0.15);\n",
              "      fill: #174EA6;\n",
              "    }\n",
              "\n",
              "    .colab-df-buttons div {\n",
              "      margin-bottom: 4px;\n",
              "    }\n",
              "\n",
              "    [theme=dark] .colab-df-convert {\n",
              "      background-color: #3B4455;\n",
              "      fill: #D2E3FC;\n",
              "    }\n",
              "\n",
              "    [theme=dark] .colab-df-convert:hover {\n",
              "      background-color: #434B5C;\n",
              "      box-shadow: 0px 1px 3px 1px rgba(0, 0, 0, 0.15);\n",
              "      filter: drop-shadow(0px 1px 2px rgba(0, 0, 0, 0.3));\n",
              "      fill: #FFFFFF;\n",
              "    }\n",
              "  </style>\n",
              "\n",
              "    <script>\n",
              "      const buttonEl =\n",
              "        document.querySelector('#df-a7102422-e1e2-421a-ab96-df62b8ab8e4f button.colab-df-convert');\n",
              "      buttonEl.style.display =\n",
              "        google.colab.kernel.accessAllowed ? 'block' : 'none';\n",
              "\n",
              "      async function convertToInteractive(key) {\n",
              "        const element = document.querySelector('#df-a7102422-e1e2-421a-ab96-df62b8ab8e4f');\n",
              "        const dataTable =\n",
              "          await google.colab.kernel.invokeFunction('convertToInteractive',\n",
              "                                                    [key], {});\n",
              "        if (!dataTable) return;\n",
              "\n",
              "        const docLinkHtml = 'Like what you see? Visit the ' +\n",
              "          '<a target=\"_blank\" href=https://colab.research.google.com/notebooks/data_table.ipynb>data table notebook</a>'\n",
              "          + ' to learn more about interactive tables.';\n",
              "        element.innerHTML = '';\n",
              "        dataTable['output_type'] = 'display_data';\n",
              "        await google.colab.output.renderOutput(dataTable, element);\n",
              "        const docLink = document.createElement('div');\n",
              "        docLink.innerHTML = docLinkHtml;\n",
              "        element.appendChild(docLink);\n",
              "      }\n",
              "    </script>\n",
              "  </div>\n",
              "\n",
              "\n",
              "    <div id=\"df-5dfe982b-2df0-4768-af7a-4972f84d0862\">\n",
              "      <button class=\"colab-df-quickchart\" onclick=\"quickchart('df-5dfe982b-2df0-4768-af7a-4972f84d0862')\"\n",
              "                title=\"Suggest charts\"\n",
              "                style=\"display:none;\">\n",
              "\n",
              "<svg xmlns=\"http://www.w3.org/2000/svg\" height=\"24px\"viewBox=\"0 0 24 24\"\n",
              "     width=\"24px\">\n",
              "    <g>\n",
              "        <path d=\"M19 3H5c-1.1 0-2 .9-2 2v14c0 1.1.9 2 2 2h14c1.1 0 2-.9 2-2V5c0-1.1-.9-2-2-2zM9 17H7v-7h2v7zm4 0h-2V7h2v10zm4 0h-2v-4h2v4z\"/>\n",
              "    </g>\n",
              "</svg>\n",
              "      </button>\n",
              "\n",
              "<style>\n",
              "  .colab-df-quickchart {\n",
              "      --bg-color: #E8F0FE;\n",
              "      --fill-color: #1967D2;\n",
              "      --hover-bg-color: #E2EBFA;\n",
              "      --hover-fill-color: #174EA6;\n",
              "      --disabled-fill-color: #AAA;\n",
              "      --disabled-bg-color: #DDD;\n",
              "  }\n",
              "\n",
              "  [theme=dark] .colab-df-quickchart {\n",
              "      --bg-color: #3B4455;\n",
              "      --fill-color: #D2E3FC;\n",
              "      --hover-bg-color: #434B5C;\n",
              "      --hover-fill-color: #FFFFFF;\n",
              "      --disabled-bg-color: #3B4455;\n",
              "      --disabled-fill-color: #666;\n",
              "  }\n",
              "\n",
              "  .colab-df-quickchart {\n",
              "    background-color: var(--bg-color);\n",
              "    border: none;\n",
              "    border-radius: 50%;\n",
              "    cursor: pointer;\n",
              "    display: none;\n",
              "    fill: var(--fill-color);\n",
              "    height: 32px;\n",
              "    padding: 0;\n",
              "    width: 32px;\n",
              "  }\n",
              "\n",
              "  .colab-df-quickchart:hover {\n",
              "    background-color: var(--hover-bg-color);\n",
              "    box-shadow: 0 1px 2px rgba(60, 64, 67, 0.3), 0 1px 3px 1px rgba(60, 64, 67, 0.15);\n",
              "    fill: var(--button-hover-fill-color);\n",
              "  }\n",
              "\n",
              "  .colab-df-quickchart-complete:disabled,\n",
              "  .colab-df-quickchart-complete:disabled:hover {\n",
              "    background-color: var(--disabled-bg-color);\n",
              "    fill: var(--disabled-fill-color);\n",
              "    box-shadow: none;\n",
              "  }\n",
              "\n",
              "  .colab-df-spinner {\n",
              "    border: 2px solid var(--fill-color);\n",
              "    border-color: transparent;\n",
              "    border-bottom-color: var(--fill-color);\n",
              "    animation:\n",
              "      spin 1s steps(1) infinite;\n",
              "  }\n",
              "\n",
              "  @keyframes spin {\n",
              "    0% {\n",
              "      border-color: transparent;\n",
              "      border-bottom-color: var(--fill-color);\n",
              "      border-left-color: var(--fill-color);\n",
              "    }\n",
              "    20% {\n",
              "      border-color: transparent;\n",
              "      border-left-color: var(--fill-color);\n",
              "      border-top-color: var(--fill-color);\n",
              "    }\n",
              "    30% {\n",
              "      border-color: transparent;\n",
              "      border-left-color: var(--fill-color);\n",
              "      border-top-color: var(--fill-color);\n",
              "      border-right-color: var(--fill-color);\n",
              "    }\n",
              "    40% {\n",
              "      border-color: transparent;\n",
              "      border-right-color: var(--fill-color);\n",
              "      border-top-color: var(--fill-color);\n",
              "    }\n",
              "    60% {\n",
              "      border-color: transparent;\n",
              "      border-right-color: var(--fill-color);\n",
              "    }\n",
              "    80% {\n",
              "      border-color: transparent;\n",
              "      border-right-color: var(--fill-color);\n",
              "      border-bottom-color: var(--fill-color);\n",
              "    }\n",
              "    90% {\n",
              "      border-color: transparent;\n",
              "      border-bottom-color: var(--fill-color);\n",
              "    }\n",
              "  }\n",
              "</style>\n",
              "\n",
              "      <script>\n",
              "        async function quickchart(key) {\n",
              "          const quickchartButtonEl =\n",
              "            document.querySelector('#' + key + ' button');\n",
              "          quickchartButtonEl.disabled = true;  // To prevent multiple clicks.\n",
              "          quickchartButtonEl.classList.add('colab-df-spinner');\n",
              "          try {\n",
              "            const charts = await google.colab.kernel.invokeFunction(\n",
              "                'suggestCharts', [key], {});\n",
              "          } catch (error) {\n",
              "            console.error('Error during call to suggestCharts:', error);\n",
              "          }\n",
              "          quickchartButtonEl.classList.remove('colab-df-spinner');\n",
              "          quickchartButtonEl.classList.add('colab-df-quickchart-complete');\n",
              "        }\n",
              "        (() => {\n",
              "          let quickchartButtonEl =\n",
              "            document.querySelector('#df-5dfe982b-2df0-4768-af7a-4972f84d0862 button');\n",
              "          quickchartButtonEl.style.display =\n",
              "            google.colab.kernel.accessAllowed ? 'block' : 'none';\n",
              "        })();\n",
              "      </script>\n",
              "    </div>\n",
              "\n",
              "    </div>\n",
              "  </div>\n"
            ],
            "application/vnd.google.colaboratory.intrinsic+json": {
              "type": "dataframe",
              "variable_name": "df"
            }
          },
          "metadata": {},
          "execution_count": 69
        }
      ],
      "source": [
        "df.head(20)"
      ]
    },
    {
      "cell_type": "code",
      "execution_count": null,
      "id": "8a91dad2",
      "metadata": {
        "id": "8a91dad2",
        "colab": {
          "base_uri": "https://localhost:8080/"
        },
        "outputId": "1ec04d00-cdbe-4548-d591-dd83087938b2"
      },
      "outputs": [
        {
          "output_type": "execute_result",
          "data": {
            "text/plain": [
              "(2346105, 9)"
            ]
          },
          "metadata": {},
          "execution_count": 49
        }
      ],
      "source": [
        "df.shape"
      ]
    },
    {
      "cell_type": "markdown",
      "id": "6304e3c9",
      "metadata": {
        "id": "6304e3c9"
      },
      "source": [
        "### Split the Data"
      ]
    },
    {
      "cell_type": "code",
      "execution_count": null,
      "id": "80d9b940",
      "metadata": {
        "id": "80d9b940"
      },
      "outputs": [],
      "source": [
        "val_split = 0.2\n",
        "test_split = 0.1\n",
        "n = len(df)\n",
        "\n",
        "train_df = df[0:int(n*(1-val_split))]\n",
        "val_df = df[int(n*(1-(val_split+test_split))):int(n*(1-test_split))]\n",
        "test_df = df[int(n*(1-test_split)):]"
      ]
    },
    {
      "cell_type": "markdown",
      "id": "4135275c",
      "metadata": {
        "id": "4135275c"
      },
      "source": [
        "### Normalization"
      ]
    },
    {
      "cell_type": "code",
      "execution_count": null,
      "id": "f353dba8",
      "metadata": {
        "id": "f353dba8"
      },
      "outputs": [],
      "source": [
        "def denormalize(data):\n",
        "    return (data * train_std) + train_mean"
      ]
    },
    {
      "cell_type": "code",
      "execution_count": null,
      "id": "1424a24c",
      "metadata": {
        "id": "1424a24c"
      },
      "outputs": [],
      "source": [
        "class WindowGenerator():\n",
        "    def __init__(self, input_width, label_width, label_columns, offset, train_df=train_df, val_df=val_df, test_df=test_df):\n",
        "        '''\n",
        "        Initializes a WindowGenerator object (based on the Tensorflow tutorial on Time series forecasting).\n",
        "\n",
        "        Parameters\n",
        "            input_width (int): The input size of the hostory used for a prediction.\n",
        "            label_width (int): How many steps into the future to predict.\n",
        "            label_columns (list: int): The features to be used as prediction targets.\n",
        "            train_df (DataFrame): The training DataFrame.\n",
        "            val_df (DataFrame): The validation DataFrame.\n",
        "            test_df (DataFrame): The test DataFrame.\n",
        "        '''\n",
        "\n",
        "        # Store the raw data.\n",
        "        self.train_df = train_df[label_columns + DATETIME_FEATURES]\n",
        "        self.val_df = val_df[label_columns + DATETIME_FEATURES]\n",
        "        self.test_df = test_df[label_columns + DATETIME_FEATURES]\n",
        "\n",
        "        # Work out the label column indices.\n",
        "        self.column_indices = {name: i for i, name in enumerate(self.train_df.columns)}\n",
        "        self.label_columns = label_columns\n",
        "        self.label_columns_indices = [self.column_indices[feature] for feature in self.label_columns]\n",
        "\n",
        "        # Work out the window parameters.\n",
        "        self.input_width = input_width\n",
        "        self.label_width = label_width\n",
        "        self.offset = offset\n",
        "        self.window_size = self.input_width + self.offset\n",
        "\n",
        "        # Work out input and label indices.\n",
        "        self.input_slice = slice(0, input_width)\n",
        "        self.input_indices = np.arange(self.window_size)[self.input_slice]\n",
        "\n",
        "        self.label_start = self.window_size - self.label_width\n",
        "        self.label_slice = slice(self.label_start, None)\n",
        "        self.label_indices = np.arange(self.window_size)[self.label_slice]\n",
        "\n",
        "        # Initialize the splitted train, val, and test datasets for easy use.\n",
        "        self._initialize_sets()\n",
        "\n",
        "    def _initialize_sets(self):\n",
        "        self._train = self.split_window(self.train_df)\n",
        "        self._val = self.split_window(self.val_df)\n",
        "        self._test = self.split_window(self.test_df)\n",
        "\n",
        "    def __repr__(self):\n",
        "        return '\\n'.join([f'Total window size: {self.window_size}',\n",
        "                          f'Input indices: {self.input_indices}',\n",
        "                          f'Label indices: {self.label_indices}',\n",
        "                          f'Target features: {self.label_columns}'])"
      ]
    },
    {
      "cell_type": "code",
      "execution_count": null,
      "id": "2680b5f6",
      "metadata": {
        "id": "2680b5f6"
      },
      "outputs": [],
      "source": [
        "def split_window(self, data):\n",
        "    '''\n",
        "    Convert the provided dataset into windows of features and labels.\n",
        "\n",
        "    Parameters\n",
        "    ----------\n",
        "        data (DataFrame): The DataFrame to be splitted.\n",
        "\n",
        "    Return\n",
        "    ------\n",
        "        inputs (array): The array of input features.\n",
        "        labels (array): The array of labels.\n",
        "    '''\n",
        "\n",
        "    np_df = np.array(data)\n",
        "    inputs = []\n",
        "    labels = []\n",
        "\n",
        "    for i in range(len(np_df) - self.window_size):\n",
        "        current_window = np_df[i:i+self.window_size]\n",
        "        inputs.append(current_window[self.input_slice])\n",
        "        labels.append(current_window[self.label_slice, self.label_columns_indices])\n",
        "    return np.array(inputs), np.array(labels)\n",
        "\n",
        "WindowGenerator.split_window = split_window"
      ]
    },
    {
      "cell_type": "code",
      "execution_count": null,
      "id": "cf8882ba",
      "metadata": {
        "id": "cf8882ba"
      },
      "outputs": [],
      "source": [
        "@property\n",
        "def train(self):\n",
        "    return self._train\n",
        "\n",
        "@property\n",
        "def val(self):\n",
        "    return self._val\n",
        "\n",
        "@property\n",
        "def test(self):\n",
        "    return self._test\n",
        "\n",
        "WindowGenerator.train = train\n",
        "WindowGenerator.val = val\n",
        "WindowGenerator.test = test"
      ]
    },
    {
      "cell_type": "code",
      "execution_count": null,
      "id": "4145ac56",
      "metadata": {
        "id": "4145ac56"
      },
      "outputs": [],
      "source": [
        "@property\n",
        "def data_shapes(self):\n",
        "    '''\n",
        "    Helper function to showcase the shapes of the sets of the window.\n",
        "    '''\n",
        "    print('\\n'.join([f'Train:\\t {self._train[0].shape} | {self._train[1].shape}',\n",
        "                     f'Val:\\t {self._val[0].shape} | {self._val[1].shape}',\n",
        "                     f'Test:\\t {self._test[0].shape} | {self._test[1].shape}']))\n",
        "\n",
        "WindowGenerator.data_shapes = data_shapes"
      ]
    },
    {
      "cell_type": "code",
      "execution_count": null,
      "id": "78d1cbbe",
      "metadata": {
        "id": "78d1cbbe"
      },
      "outputs": [],
      "source": [
        "@property\n",
        "def get_model_params(self):\n",
        "    '''\n",
        "    Helper function to get and showcase the parameters to be used by the models.\n",
        "    '''\n",
        "\n",
        "    # Shape of training X vectors is [batch, time, num_layer_units]\n",
        "    n_steps = self.train[0].shape[1]\n",
        "\n",
        "    # Shape of input features is [observation, features]\n",
        "    n_features = self.train_df.shape[1]\n",
        "\n",
        "    # Shape of target y vector is [batch, time, outputs]\n",
        "    n_outputs = self.train[1].shape[-1]\n",
        "\n",
        "    print('\\n'.join([f'Number of time steps: {n_steps}',\n",
        "                     f'Number of input features: {n_features}',\n",
        "                     f'Number of output features: {n_outputs}']))\n",
        "\n",
        "    return n_steps, n_features, n_outputs\n",
        "\n",
        "WindowGenerator.get_model_params = get_model_params"
      ]
    },
    {
      "cell_type": "code",
      "execution_count": null,
      "id": "2f8ce42f",
      "metadata": {
        "id": "2f8ce42f"
      },
      "outputs": [],
      "source": [
        "single_step_window = WindowGenerator(input_width=24, label_width=1, offset=1, label_columns=['PM2.5 (ug/m3)'])\n",
        "single_step_window"
      ]
    },
    {
      "cell_type": "code",
      "execution_count": null,
      "id": "bcea38d8",
      "metadata": {
        "id": "bcea38d8"
      },
      "outputs": [],
      "source": [
        "single_step_window.data_shapes"
      ]
    },
    {
      "cell_type": "code",
      "execution_count": null,
      "id": "ef04818e",
      "metadata": {
        "id": "ef04818e"
      },
      "outputs": [],
      "source": [
        "n_steps, n_features, n_outputs = single_step_window.get_model_params"
      ]
    },
    {
      "cell_type": "markdown",
      "id": "483b7d7b",
      "metadata": {
        "id": "483b7d7b"
      },
      "source": [
        "### Single Step Models\n",
        "\n",
        "#### Recurrent Neural Network\n",
        "\n",
        "I am going to use a type of RNN called Long Short Term Memory (LSTM). LSTMs are suitable for modeling univariate time series forecasting problems, which consist of a single series of observations. The models are trained on the past observations to predict the next value in the sequence. In this section I will explain and showcase several variations of the LSTM model for univariate time series forecasting.\n",
        "\n",
        "##### Vanilla\n",
        "\n",
        "A Vanilla LSTM is an LSTM model that has a single hidden layer of LSTM units, and an output layer used to make a prediction"
      ]
    },
    {
      "cell_type": "code",
      "execution_count": null,
      "id": "8bfaeb31",
      "metadata": {
        "id": "8bfaeb31"
      },
      "outputs": [],
      "source": [
        "lstm_vanilla = tf.keras.Sequential([\n",
        "    Input(shape=(n_steps, n_features)),\n",
        "    LSTM(32),\n",
        "    Dense(n_outputs, activation='linear')\n",
        "])"
      ]
    },
    {
      "cell_type": "markdown",
      "id": "23b5073c",
      "metadata": {
        "id": "23b5073c"
      },
      "source": [
        "##### Stacked\n",
        "\n",
        "A stacked LSTM is an LSTM model that consists of multiple LSTM layers. In this architecture, an LSTM layer above provides a sequence output to the LSTM layer below, with one output per input time step. By stacking multiple LSTM layers, the model can capture even more complex temporal dependency patterns. Stacked LSTMs are often used in time series forecasting tasks to capture complex patterns in the data."
      ]
    },
    {
      "cell_type": "code",
      "execution_count": null,
      "id": "e95f07ef",
      "metadata": {
        "id": "e95f07ef"
      },
      "outputs": [],
      "source": [
        "lstm_stacked = tf.keras.Sequential([\n",
        "    Input(shape=(n_steps, n_features)),\n",
        "    LSTM(32, return_sequences=True),\n",
        "    LSTM(32),\n",
        "    Dense(n_outputs, activation='linear')\n",
        "])"
      ]
    },
    {
      "cell_type": "markdown",
      "id": "142611c0",
      "metadata": {
        "id": "142611c0"
      },
      "source": [
        "##### Bidirectional\n",
        "\n",
        "A bidirectional LSTM is a type of LSTM model that allows information to flow both forward and backward in the sequence. In a standard LSTM, information flows only in one direction, from past to future. However, in a bidirectional LSTM, the input sequence is split into two parts: one processed in the forward direction and the other in the reverse direction.\n",
        "\n",
        "The outputs from both directions are then combined, typically by concatenation, to form the final output sequence. This is achieved by duplicating the hidden layer of the LSTM and processing the input sequence in both directions. This enables the model to capture patterns that may depend on future as well as past observations."
      ]
    },
    {
      "cell_type": "code",
      "execution_count": null,
      "id": "aa87014d",
      "metadata": {
        "id": "aa87014d"
      },
      "outputs": [],
      "source": [
        "lstm_bi = tf.keras.Sequential([\n",
        "    Input(shape=(n_steps, n_features)),\n",
        "    Bidirectional(LSTM(32)),\n",
        "    Dense(n_outputs, activation='linear')\n",
        "])"
      ]
    },
    {
      "cell_type": "markdown",
      "id": "367195e5",
      "metadata": {
        "id": "367195e5"
      },
      "source": [
        "##### Stacked Bidirectional\n",
        "\n",
        "A stacked bidirectional LSTM is a type of LSTM model that combines the concepts of stacked LSTMs and bidirectional LSTMs. It consists of multiple LSTM layers, where each layer processes the input sequence in both the forward and backward directions. This allows the model to capture complex temporal dependencies by considering both past and future context.\n",
        "\n",
        "In a stacked bidirectional LSTM, the output sequence from one LSTM layer is fed as input to the next LSTM layer, similar to a stacked LSTM. However, each LSTM layer in a stacked bidirectional LSTM is bidirectional, meaning it processes the input sequence in both directions. The outputs from all the LSTM layers are then combined to form the final output sequence."
      ]
    },
    {
      "cell_type": "code",
      "execution_count": null,
      "id": "33689a63",
      "metadata": {
        "id": "33689a63"
      },
      "outputs": [],
      "source": [
        "lstm_stacked_bi = tf.keras.Sequential([\n",
        "    Input(shape=(n_steps, n_features)),\n",
        "    Bidirectional(LSTM(64, return_sequences=True)),\n",
        "    Bidirectional(LSTM(64)),\n",
        "    Dense(n_outputs, activation='linear')\n",
        "])"
      ]
    },
    {
      "cell_type": "markdown",
      "id": "2802bc0f",
      "metadata": {
        "id": "2802bc0f"
      },
      "source": [
        "#### Convolutional Neural Network\n",
        "\n",
        "##### 1D Convolutional Network\n",
        "\n",
        "One advantage of using 1D Convolutional Networks for time series forecasting is that they can capture local patterns in the data, such as trends and seasonality, without requiring a priori knowledge of the underlying structure of the time series"
      ]
    },
    {
      "cell_type": "code",
      "execution_count": null,
      "id": "6c939546",
      "metadata": {
        "id": "6c939546"
      },
      "outputs": [],
      "source": [
        "cnn_1d = tf.keras.Sequential([\n",
        "    Input(shape=(n_steps, n_features)),\n",
        "    Conv1D(filters=32, kernel_size=(n_steps), activation='relu'),\n",
        "    Flatten(),\n",
        "    Dense(n_outputs, activation='linear')\n",
        "])"
      ]
    },
    {
      "cell_type": "markdown",
      "id": "455d05c2",
      "metadata": {
        "id": "455d05c2"
      },
      "source": [
        "##### CNN-LSTM\n",
        "\n",
        "1D Convolutional Networks-LSTM architecture is a type of neural network that can be used for time series forecasting. It combines the strengths of Convolutional Neural Networks (CNNs) and Long Short-Term Memory (LSTM) networks to capture both local and global temporal dependencies in the data."
      ]
    },
    {
      "cell_type": "code",
      "execution_count": null,
      "id": "6b18a978",
      "metadata": {
        "id": "6b18a978"
      },
      "outputs": [],
      "source": [
        "cnn_lstm = tf.keras.Sequential([\n",
        "    Input(shape=(n_steps, n_features)),\n",
        "    Conv1D(filters=32, kernel_size=(n_steps), activation='relu'),\n",
        "    LSTM(32),\n",
        "    Dense(n_outputs, activation='linear')\n",
        "])"
      ]
    },
    {
      "cell_type": "markdown",
      "id": "6bf73573",
      "metadata": {
        "id": "6bf73573"
      },
      "source": [
        "#### Training"
      ]
    },
    {
      "cell_type": "code",
      "execution_count": null,
      "id": "6ee42b53",
      "metadata": {
        "id": "6ee42b53"
      },
      "outputs": [],
      "source": [
        "# Top level variables\n",
        "MAX_EPOCHS = 50\n",
        "PATIENCE = 2\n",
        "METRIC_NAME = 'mean_absolute_error'"
      ]
    },
    {
      "cell_type": "code",
      "execution_count": null,
      "id": "4f0e61bd",
      "metadata": {
        "id": "4f0e61bd"
      },
      "outputs": [],
      "source": [
        "models = {\n",
        "    \"vanilla\": lstm_vanilla,\n",
        "    \"stacked\":  lstm_stacked,\n",
        "    \"bidirectional\": lstm_bi,\n",
        "    \"bidirectional_stacked\": lstm_stacked_bi,\n",
        "    \"cnn_1d\": cnn_1d,\n",
        "    \"cnn_lstm\": cnn_lstm\n",
        "}"
      ]
    },
    {
      "cell_type": "code",
      "execution_count": null,
      "id": "92cb993e",
      "metadata": {
        "id": "92cb993e"
      },
      "outputs": [],
      "source": [
        "def compile_and_fit(model, window, patience=PATIENCE, num_epochs=MAX_EPOCHS):\n",
        "    '''\n",
        "    Compiles and fits the model to the training and validation datasets.\n",
        "\n",
        "    Parameters\n",
        "        model (Sequential): The model to compile and fit.\n",
        "        window (WindowGenerator): The window object that holds the train, val and test sets.\n",
        "        patience (int): Number of consequetive epochs with no improvement.\n",
        "        num_epochs (int): Maximum number of epochs for the model to train.\n",
        "\n",
        "    Return\n",
        "        history (history): Tensorflow history object containing the metric results for each epoch.\n",
        "    '''\n",
        "\n",
        "    early_stopping = tf.keras.callbacks.EarlyStopping(monitor='val_loss',\n",
        "                                                      patience=PATIENCE,\n",
        "                                                      mode='min',\n",
        "                                                      restore_best_weights=True,\n",
        "                                                      start_from_epoch=5)\n",
        "\n",
        "    model.compile(optimizer = Adam(learning_rate = 0.001),\n",
        "                  loss = MeanSquaredError(),\n",
        "                  metrics = [MeanAbsoluteError()])\n",
        "\n",
        "    history = model.fit(window.train[0], window.train[1],\n",
        "                        validation_data=window.val,\n",
        "                        epochs=MAX_EPOCHS,\n",
        "                        callbacks=[early_stopping])\n",
        "\n",
        "    return history"
      ]
    },
    {
      "cell_type": "code",
      "execution_count": null,
      "id": "b62540c9",
      "metadata": {
        "id": "b62540c9"
      },
      "outputs": [],
      "source": [
        "histories = {}\n",
        "\n",
        "for model_arch, model in models.items():\n",
        "    clear_output(wait=False)\n",
        "    print(f'Training [{model_arch}] model architecture...')\n",
        "    histories[model_arch] = compile_and_fit(model, single_step_window)"
      ]
    },
    {
      "cell_type": "markdown",
      "id": "145462d4",
      "metadata": {
        "id": "145462d4"
      },
      "source": [
        "#### Performance"
      ]
    },
    {
      "cell_type": "code",
      "execution_count": null,
      "id": "3e600db6",
      "metadata": {
        "id": "3e600db6"
      },
      "outputs": [],
      "source": [
        "def plot_errors(histories):\n",
        "    fig, axes = plt.subplots(1, 2, figsize=(15, 5))\n",
        "\n",
        "    for model_arch, history in histories.items():\n",
        "        axes[0].plot(history.history[METRIC_NAME], label=model_arch)\n",
        "        axes[1].plot(history.history[f'val_{METRIC_NAME}'], label=model_arch)\n",
        "\n",
        "    axes[0].set_title(METRIC_NAME)\n",
        "    axes[1].set_title(f'Validation {METRIC_NAME}')\n",
        "\n",
        "    axes[0].legend()\n",
        "    axes[1].legend()\n",
        "\n",
        "    plt.show()"
      ]
    },
    {
      "cell_type": "code",
      "execution_count": null,
      "id": "5a348ef6",
      "metadata": {
        "id": "5a348ef6"
      },
      "outputs": [],
      "source": [
        "plot_errors(histories)"
      ]
    },
    {
      "cell_type": "code",
      "execution_count": null,
      "id": "55fd7415",
      "metadata": {
        "id": "55fd7415"
      },
      "outputs": [],
      "source": [
        "best_scores = []\n",
        "\n",
        "for model_arch, history in histories.items():\n",
        "    best_scores.append([model_arch,\n",
        "                        min(history.history['val_loss']),\n",
        "                        min(history.history[f'val_{METRIC_NAME}'])])"
      ]
    },
    {
      "cell_type": "code",
      "execution_count": null,
      "id": "1008c377",
      "metadata": {
        "id": "1008c377"
      },
      "outputs": [],
      "source": [
        "best_scores = pd.DataFrame(best_scores, columns =['Architecture', 'validation_MSE', 'validation_MAE'])\n",
        "best_scores = best_scores.set_index('Architecture')\n",
        "best_scores.sort_values(by=['validation_MAE'])"
      ]
    },
    {
      "cell_type": "code",
      "execution_count": null,
      "id": "1a3a6dc3",
      "metadata": {
        "id": "1a3a6dc3"
      },
      "outputs": [],
      "source": [
        "val_performance = {}\n",
        "performance = {}\n",
        "\n",
        "for model_arch, model in models.items():\n",
        "    val_performance[model_arch] = model.evaluate(single_step_window.val[0], single_step_window.val[1])\n",
        "    performance[model_arch] = model.evaluate(single_step_window.test[0], single_step_window.test[1], verbose=0)"
      ]
    },
    {
      "cell_type": "code",
      "execution_count": null,
      "id": "f77efeee",
      "metadata": {
        "id": "f77efeee"
      },
      "outputs": [],
      "source": [
        "x = np.arange(len(performance))\n",
        "width = 0.3\n",
        "val_mae = [val_performance[model][1] for model in list(models.keys())]\n",
        "test_mae = [performance[model][1] for model in list(models.keys())]\n",
        "\n",
        "ax = plt.figure(figsize=(8, 5))\n",
        "plt.ylabel(f'{METRIC_NAME} [PM2.5 (ug/m3)]')\n",
        "plt.bar(x - 0.17, val_mae, width, label='Validation')\n",
        "plt.bar(x + 0.17, test_mae, width, label='Test')\n",
        "plt.gca().set_ylim(0, max(val_mae+test_mae)+0.02)\n",
        "plt.xticks(ticks=x, labels=models.keys(), rotation=45)\n",
        "_ = plt.legend()"
      ]
    },
    {
      "cell_type": "code",
      "execution_count": null,
      "id": "95f5bdf9",
      "metadata": {
        "id": "95f5bdf9"
      },
      "outputs": [],
      "source": [
        "fig, axes = plt.subplots(len(models), 1, figsize=(12, 3*len(models)), sharex=True)\n",
        "fig.tight_layout(pad=2.0)\n",
        "\n",
        "for index, (model_name, model) in enumerate(models.items()):\n",
        "    # Use models to make predictions on the test set\n",
        "    predictions = model.predict(single_step_window.test[0])\n",
        "    predictions = pd.DataFrame(predictions, index=test_df.index[single_step_window.input_width:-1], columns=single_step_window.label_columns)\n",
        "\n",
        "    # Denormalize the records to their actual values\n",
        "    predictions_denormalized = denormalize(predictions)\n",
        "    test_df_denormalized = denormalize(test_df)\n",
        "\n",
        "    # Plot the actual data, as well as the prediction data\n",
        "    sns.lineplot(data=test_df_denormalized[24:], x=test_df_denormalized.index[24:], y=single_step_window.label_columns[0], label=\"Labels\", ax=axes[index])\n",
        "    sns.lineplot(data=predictions_denormalized, x=predictions_denormalized.index, y=single_step_window.label_columns[0], label=\"Predictions\", ax=axes[index])\n",
        "    axes[index].set_title(model_name)\n",
        "    axes[index].set(xlabel=None)\n",
        "\n",
        "plt.show()"
      ]
    },
    {
      "cell_type": "markdown",
      "id": "a3b007b5",
      "metadata": {
        "id": "a3b007b5"
      },
      "source": [
        "At this point we can see that all models perform really well.\n",
        "\n",
        "\n",
        "#### Model Tuning\n",
        "\n",
        "Hyperparameter tuning is an essential step in building machine learning models. It involves selecting the right set of hyperparameters for your model, which can be a time-consuming and tedious process. KerasTuner simplifies this process by automating the search for optimal hyperparameters, thereby saving time and effort.\n",
        "\n",
        "To this point, I am going to select the stacked LSTM achitecture for fine-tuning."
      ]
    },
    {
      "cell_type": "code",
      "execution_count": null,
      "id": "566a9246",
      "metadata": {
        "id": "566a9246"
      },
      "outputs": [],
      "source": [
        "def model_builder(hp):\n",
        "    model = tf.keras.Sequential()\n",
        "    model.add(Input(shape=(n_steps, n_features)))\n",
        "\n",
        "    # Tune number of units\n",
        "    model.add(LSTM(units=hp.Int(\"lstm1_units\", min_value=24, max_value=64, step=8), return_sequences=True))\n",
        "    model.add(LSTM(units=hp.Int(\"lstm2_units\", min_value=24, max_value=64, step=8)))\n",
        "\n",
        "    # Tune whether to use a intermediate dense layer.\n",
        "    if hp.Boolean(\"dense_layer\"):\n",
        "        model.add(Dense(units=hp.Int(\"dense_units\", min_value=24, max_value=32, step=8), activation=\"relu\"))\n",
        "\n",
        "    model.add(Dense(n_outputs, activation='linear'))\n",
        "\n",
        "    model.compile(optimizer = Adam(learning_rate = 0.001),\n",
        "                  loss = MeanSquaredError(),\n",
        "                  metrics = [MeanAbsoluteError()])\n",
        "    return model"
      ]
    },
    {
      "cell_type": "markdown",
      "id": "73335d22",
      "metadata": {
        "id": "73335d22"
      },
      "source": [
        "The keras tuner I am going to use is called BayesianOptimization, which is a technique used to optimize black-box functions that are expensive to evaluate. The main idea behind Bayesian optimization is to balance exploration and exploitation, in order to find the global optimum of the function with as few evaluations as possible."
      ]
    },
    {
      "cell_type": "code",
      "execution_count": null,
      "id": "9ba6b82e",
      "metadata": {
        "id": "9ba6b82e"
      },
      "outputs": [],
      "source": [
        "tuner = kt.BayesianOptimization(model_builder,\n",
        "                                objective='val_loss',\n",
        "                                max_trials=10,\n",
        "                                directory='/content/drive/MyDrive/archive/keras_tuner',\n",
        "                                project_name='stacked_lstm',\n",
        "                                overwrite=False)"
      ]
    },
    {
      "cell_type": "code",
      "execution_count": null,
      "id": "0730c3a5",
      "metadata": {
        "id": "0730c3a5"
      },
      "outputs": [],
      "source": [
        "tuner_stopping = tf.keras.callbacks.EarlyStopping(monitor='val_loss',\n",
        "                                                  patience=2,\n",
        "                                                  mode='min',\n",
        "                                                  restore_best_weights=True,\n",
        "                                                  start_from_epoch=5)"
      ]
    },
    {
      "cell_type": "code",
      "execution_count": null,
      "id": "15053caf",
      "metadata": {
        "id": "15053caf"
      },
      "outputs": [],
      "source": [
        "tuner.search(single_step_window.train[0], single_step_window.train[1], epochs=MAX_EPOCHS,\n",
        "             validation_data=single_step_window.val, callbacks=[tuner_stopping])"
      ]
    },
    {
      "cell_type": "code",
      "execution_count": null,
      "id": "2c322b16",
      "metadata": {
        "id": "2c322b16"
      },
      "outputs": [],
      "source": [
        "# Get the optimal hyperparameters and build hypermodel\n",
        "best_hps = tuner.get_best_hyperparameters(num_trials=1)[0]\n",
        "hypermodel = tuner.hypermodel.build(best_hps)\n",
        "hypermodel.summary()"
      ]
    },
    {
      "cell_type": "code",
      "execution_count": null,
      "id": "405ad276",
      "metadata": {
        "id": "405ad276"
      },
      "outputs": [],
      "source": [
        "# Retrain the model\n",
        "hypermodel.fit(single_step_window.train[0], single_step_window.train[1],\n",
        "               validation_data=single_step_window.val,\n",
        "               epochs=MAX_EPOCHS,\n",
        "               callbacks=[tuner_stopping])"
      ]
    },
    {
      "cell_type": "code",
      "execution_count": null,
      "id": "4a113b0a",
      "metadata": {
        "id": "4a113b0a"
      },
      "outputs": [],
      "source": [
        "eval_result = hypermodel.evaluate(single_step_window.test[0], single_step_window.test[1])"
      ]
    },
    {
      "cell_type": "code",
      "execution_count": null,
      "id": "e49778fa",
      "metadata": {
        "id": "e49778fa"
      },
      "outputs": [],
      "source": [
        "def percentage(start, final):\n",
        "    change = round(((final-start)/start)*100,3)\n",
        "    if change >= 0:\n",
        "        return f\"{abs(change)}% worse\"\n",
        "    else:\n",
        "        return f\"{abs(change)}% better\"\n",
        "\n",
        "old_performance = performance['stacked']\n",
        "\n",
        "print(\"\\n\".join([f\"Test loss: {round(eval_result[0],5)} from {round(old_performance[0],5)} ({percentage(old_performance[0], eval_result[0])})\",\n",
        "                 f\"Test MAE:  {round(eval_result[1],5)} from {round(old_performance[1],5)} ({percentage(old_performance[1], eval_result[1])})\"]))"
      ]
    },
    {
      "cell_type": "markdown",
      "id": "6c69a285",
      "metadata": {
        "id": "6c69a285"
      },
      "source": [
        "### Future Predictions\n",
        "\n",
        "Our models so far can predict one hour (single step) into the future, given 24 hours of history. Here I will make autoregressive predictions, which means the model's prediction will be fed back to the model, up to a specific date."
      ]
    },
    {
      "cell_type": "code",
      "execution_count": null,
      "id": "639fb460",
      "metadata": {
        "id": "639fb460"
      },
      "outputs": [],
      "source": [
        "def get_sin_cos_timestamp(timestamp):\n",
        "    '''\n",
        "    Takes as input a timestamp and returns an array of sine and cosine transforms of the timestamp.\n",
        "    '''\n",
        "\n",
        "    date_time = pd.to_datetime(timestamp, format='%d.%m.%Y %H:%M:%S')\n",
        "    timestamp = pd.Timestamp.timestamp(date_time)\n",
        "\n",
        "    return [np.sin(timestamp * (2 * np.pi / day)),\n",
        "            np.cos(timestamp * (2 * np.pi / day)),\n",
        "            np.sin(timestamp * (2 * np.pi / year)),\n",
        "            np.cos(timestamp * (2 * np.pi / year))]"
      ]
    },
    {
      "cell_type": "code",
      "execution_count": null,
      "id": "7900c420",
      "metadata": {
        "id": "7900c420"
      },
      "outputs": [],
      "source": [
        "def auto_predict(model, window, date_range):\n",
        "    '''\n",
        "    Autoregressively predicts future values.\n",
        "\n",
        "    Parameters\n",
        "        model (Sequential): The model to use for future predictions.\n",
        "        window (WindowGenerator): The window to be used for predictions.\n",
        "        date_range (date_range): The range of future dates for predictions.\n",
        "\n",
        "    Return\n",
        "        predictions (array): An array of future predictions.\n",
        "    '''\n",
        "\n",
        "    X_future = deepcopy(window.test[0][-1:])\n",
        "    y_future = []\n",
        "\n",
        "    index = 0\n",
        "\n",
        "    for target_date in date_range:\n",
        "        # Make new prediction\n",
        "        prediction = model.predict(X_future[-1:], verbose=None)\n",
        "        y_future.append(prediction)\n",
        "\n",
        "        # Create new input\n",
        "        input = X_future[-1][1:]\n",
        "        num_features = window.train[1].shape[-1]\n",
        "        timestamp_sin_cos = get_sin_cos_timestamp(target_date)\n",
        "        timestamp_sin_cos = (timestamp_sin_cos - train_mean[window.train_df.columns][num_features:]) / train_std[window.train_df.columns][num_features:]\n",
        "\n",
        "        observation = np.concatenate((prediction[0], timestamp_sin_cos), axis=0)\n",
        "        observation = np.expand_dims(observation, axis=0)\n",
        "\n",
        "        input = np.concatenate((input, observation), axis=0)\n",
        "        input = np.expand_dims(input, axis=0)\n",
        "\n",
        "        X_future = np.concatenate((X_future, input), axis=0)\n",
        "\n",
        "        print(f\"{index+1}/{len(date_range)}\", end='\\r', flush=True)\n",
        "\n",
        "        index += 1\n",
        "\n",
        "    return np.array(y_future)"
      ]
    },
    {
      "cell_type": "code",
      "execution_count": null,
      "id": "3ccb09b0",
      "metadata": {
        "id": "3ccb09b0"
      },
      "outputs": [],
      "source": [
        "future_dates = pd.date_range(start='2023-04-01', end='2023-06-01', freq='1H')"
      ]
    },
    {
      "cell_type": "code",
      "execution_count": null,
      "id": "63b5f172",
      "metadata": {
        "id": "63b5f172"
      },
      "outputs": [],
      "source": [
        "predictions = auto_predict(hypermodel, single_step_window, future_dates)"
      ]
    },
    {
      "cell_type": "code",
      "execution_count": null,
      "id": "aceccd37",
      "metadata": {
        "id": "aceccd37"
      },
      "outputs": [],
      "source": [
        "future_df = pd.DataFrame(predictions[:,0,0], index = future_dates, columns =['Future Prediction'])"
      ]
    },
    {
      "cell_type": "code",
      "execution_count": null,
      "id": "d039a646",
      "metadata": {
        "id": "d039a646"
      },
      "outputs": [],
      "source": [
        "def plot_predictions(model, window, future_predictions=None, symetric=False, title='Predictions'):\n",
        "    # Get test set predictions.\n",
        "    test_predictions = model.predict(window.test[0])\n",
        "    test_predictions = pd.DataFrame(test_predictions, index=window.test_df.index[window.input_width:-1], columns=window.label_columns)\n",
        "\n",
        "    # Set figure properties.\n",
        "    fig = plt.figure(figsize=(12, 5))\n",
        "    ax = fig.add_subplot(111)\n",
        "    ax.set_title(title)\n",
        "\n",
        "    # Show the same amount of testing timesteps as future timesteps.\n",
        "    if symetric == True:\n",
        "        start_index = -len(future_predictions)\n",
        "        sns.lineplot(data=window.test_df[start_index:], x=window.test_df.index[start_index:], y=window.label_columns[0], label=\"Test Data\")\n",
        "        sns.lineplot(data=test_predictions[start_index:], x=test_predictions.index[start_index:], y=window.label_columns[0], label=\"Test Prediction\")\n",
        "    else:\n",
        "        sns.lineplot(data=window.test_df, x=window.test_df.index, y=window.label_columns[0], label=\"Test Data\")\n",
        "        sns.lineplot(data=test_predictions, x=test_predictions.index, y=window.label_columns[0], label=\"Test Prediction\")\n",
        "\n",
        "    sns.lineplot(data=future_predictions, x=future_predictions.index, y=future_predictions['Future Prediction'], label=\"Future Prediction\")\n",
        "    ax.set(xlabel=None)\n",
        "    plt.show()"
      ]
    },
    {
      "cell_type": "code",
      "execution_count": null,
      "id": "308dd8e6",
      "metadata": {
        "id": "308dd8e6"
      },
      "outputs": [],
      "source": [
        "plot_predictions(hypermodel, single_step_window, future_df, symetric=True, title='Hypermodel - Predictions')"
      ]
    },
    {
      "cell_type": "code",
      "execution_count": null,
      "id": "8cfcc1b0",
      "metadata": {
        "id": "8cfcc1b0"
      },
      "outputs": [],
      "source": [
        "sns.lineplot(data=future_df[:250], x=future_df[:250].index, y=future_df[:250]['Future Prediction'])"
      ]
    },
    {
      "cell_type": "markdown",
      "id": "292d4a2e",
      "metadata": {
        "id": "292d4a2e"
      },
      "source": [
        "As we can see, the prediction of the hypermodel tend to oscilate a lot.\n",
        "\n",
        "### Multi-Output Models\n",
        "\n",
        "In this subsection I would like to expand these models to make predictions with multiple time step and across multiple outputs.\n",
        "\n",
        "#### Multi-step Window"
      ]
    },
    {
      "cell_type": "code",
      "execution_count": null,
      "id": "484a7d43",
      "metadata": {
        "id": "484a7d43"
      },
      "outputs": [],
      "source": [
        "multi_step_window = WindowGenerator(input_width=24, label_width=24, offset=24,\n",
        "                                    label_columns=['PM2.5 (ug/m3)', 'CO (mg/m3)', 'Ozone (ug/m3)', 'NOx (ug/m3)'])\n",
        "multi_step_window"
      ]
    },
    {
      "cell_type": "code",
      "execution_count": null,
      "id": "fcb46d84",
      "metadata": {
        "id": "fcb46d84"
      },
      "outputs": [],
      "source": [
        "multi_step_window.data_shapes"
      ]
    },
    {
      "cell_type": "code",
      "execution_count": null,
      "id": "0beae3d0",
      "metadata": {
        "id": "0beae3d0"
      },
      "outputs": [],
      "source": [
        "n_steps, n_features, n_outputs = multi_step_window.get_model_params"
      ]
    },
    {
      "cell_type": "code",
      "execution_count": null,
      "id": "9a715a32",
      "metadata": {
        "id": "9a715a32"
      },
      "outputs": [],
      "source": [
        "multi_lstm_stacked = tf.keras.Sequential([\n",
        "    Input(shape=(n_steps, n_features)),\n",
        "    LSTM(64, return_sequences=False),\n",
        "\n",
        "    # Shape => [batch, 1, out_steps*features]\n",
        "    Dense(n_steps*n_outputs, kernel_initializer=tf.initializers.zeros()),\n",
        "    # Shape => [batch, out_steps, features]\n",
        "    tf.keras.layers.Reshape([n_steps, n_outputs])\n",
        "])"
      ]
    },
    {
      "cell_type": "code",
      "execution_count": null,
      "id": "181ff387",
      "metadata": {
        "id": "181ff387"
      },
      "outputs": [],
      "source": [
        "multi_history = compile_and_fit(multi_lstm_stacked, multi_step_window)"
      ]
    },
    {
      "cell_type": "code",
      "execution_count": null,
      "id": "6a028a1d",
      "metadata": {
        "id": "6a028a1d"
      },
      "outputs": [],
      "source": [
        "def plot_multi_predictions(model, window, title):\n",
        "    # Get properties of plotting.\n",
        "    is_multi_output = len(window.label_columns) > 1\n",
        "\n",
        "    # Get test set predictions.\n",
        "    test_predictions = model.predict(window.test[0])\n",
        "    test_predictions = pd.DataFrame(test_predictions[-1], index=window.test_df.index[window.input_width:][-window.input_width:], columns=window.label_columns)\n",
        "\n",
        "    # Set figure properties.\n",
        "    fig, ax = plt.subplots(len(window.label_columns), 1, figsize=(12, 3*len(window.label_columns)), sharex=True)\n",
        "    fig.suptitle(title)\n",
        "    fig.tight_layout(pad=2.0)\n",
        "\n",
        "    input_width = window.input_width\n",
        "    input_slice = slice(-input_width*2, -input_width)\n",
        "    label_slice = slice(-input_width, None)\n",
        "\n",
        "    for index in window.label_columns_indices:\n",
        "        sns.lineplot(data=window.test_df[input_slice], x=window.test_df.index[input_slice], y=window.label_columns[index],\n",
        "                     label=\"Inputs\", marker='.', ax=ax[index])\n",
        "        sns.lineplot(data=window.test_df[label_slice], x=window.test_df.index[label_slice], y=window.label_columns[index],\n",
        "                     label=\"Labels\", marker='o', ax=ax[index])\n",
        "        sns.lineplot(data=test_predictions, x=test_predictions.index, y=window.label_columns[index],\n",
        "                     label=\"Predictions\", marker='X', ax=ax[index])\n",
        "\n",
        "    # Remove x label fom plot.\n",
        "    ax = [x.set(xlabel=None) for x in ax]\n",
        "    plt.show()"
      ]
    },
    {
      "cell_type": "code",
      "execution_count": null,
      "id": "e7d1d613",
      "metadata": {
        "id": "e7d1d613"
      },
      "outputs": [],
      "source": [
        "plot_multi_predictions(multi_lstm_stacked, multi_step_window, title='[Multi-Output Multi-step] - Predictions')"
      ]
    },
    {
      "cell_type": "code",
      "source": [
        "import pandas as pd\n",
        "import numpy as np\n",
        "import datetime\n",
        "from copy import deepcopy\n",
        "\n",
        "# === Step 3: Extract the data used in final plot ===\n",
        "# Use your test window and trained model\n",
        "window = multi_step_window\n",
        "model = multi_lstm_stacked\n",
        "pollutants = ['PM2.5 (ug/m3)', 'CO (mg/m3)', 'Ozone (ug/m3)', 'NOx (ug/m3)']\n",
        "\n",
        "# Predict on full test set\n",
        "test_predictions = model.predict(window.test[0])  # shape: (samples, 24, 4)\n",
        "\n",
        "# Select the **last test sample** already used in your plot\n",
        "last_prediction = test_predictions[-1]            # shape: (24, 4)\n",
        "label_slice = slice(-24, None)\n",
        "input_slice = slice(-48, -24)\n",
        "\n",
        "# Extract true labels and inputs from test_df (already normalized → denormalize)\n",
        "test_inputs = window.test_df.iloc[input_slice]\n",
        "test_labels = window.test_df.iloc[label_slice]\n",
        "test_predictions_df = pd.DataFrame(last_prediction, index=test_labels.index, columns=pollutants)\n",
        "\n",
        "# STEP 4: Save input/label/prediction for plotting\n",
        "records = []\n",
        "for i in range(24):\n",
        "    row = {'Hour': test_inputs.index[i], 'Stage': 'Input'}\n",
        "    for pol in pollutants:\n",
        "        row[pol] = test_inputs[pol].values[i]\n",
        "    records.append(row)\n",
        "\n",
        "for i in range(24):\n",
        "    row_label = {'Hour': test_labels.index[i], 'Stage': 'Label'}\n",
        "    row_pred = {'Hour': test_labels.index[i], 'Stage': 'Prediction'}\n",
        "    for pol in pollutants:\n",
        "        row_label[pol] = test_labels[pol].values[i]\n",
        "        row_pred[pol] = test_predictions_df[pol].values[i]\n",
        "    records.extend([row_label, row_pred])\n",
        "\n",
        "df_all = pd.DataFrame(records)\n",
        "df_all.to_csv(\"air_quality_predictions.csv\", index=False)\n",
        "print(\"✅ Saved actual data: air_quality_predictions.csv\")"
      ],
      "metadata": {
        "id": "e9JULuO-7r8a"
      },
      "id": "e9JULuO-7r8a",
      "execution_count": null,
      "outputs": []
    }
  ],
  "metadata": {
    "accelerator": "TPU",
    "colab": {
      "gpuType": "V28",
      "provenance": []
    },
    "kernelspec": {
      "display_name": "Python 3",
      "name": "python3"
    },
    "language_info": {
      "codemirror_mode": {
        "name": "ipython",
        "version": 3
      },
      "file_extension": ".py",
      "mimetype": "text/x-python",
      "name": "python",
      "nbconvert_exporter": "python",
      "pygments_lexer": "ipython3",
      "version": "3.10.12"
    },
    "papermill": {
      "default_parameters": {},
      "duration": 9905.193648,
      "end_time": "2023-10-09T21:45:41.530996",
      "environment_variables": {},
      "exception": null,
      "input_path": "__notebook__.ipynb",
      "output_path": "__notebook__.ipynb",
      "parameters": {},
      "start_time": "2023-10-09T19:00:36.337348",
      "version": "2.4.0"
    }
  },
  "nbformat": 4,
  "nbformat_minor": 5
}